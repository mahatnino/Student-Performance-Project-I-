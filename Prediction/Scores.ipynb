{
 "cells": [
  {
   "cell_type": "markdown",
   "metadata": {},
   "source": [
    "Importing pandas"
   ]
  },
  {
   "cell_type": "code",
   "execution_count": 1,
   "metadata": {},
   "outputs": [],
   "source": [
    "import pandas as pd\n",
    "import numpy as np"
   ]
  },
  {
   "cell_type": "markdown",
   "metadata": {},
   "source": [
    "Loading the clean Student Performance DataFile"
   ]
  },
  {
   "cell_type": "code",
   "execution_count": 2,
   "metadata": {},
   "outputs": [],
   "source": [
    "df=pd.read_csv('cleaned_data.csv')"
   ]
  },
  {
   "cell_type": "code",
   "execution_count": 3,
   "metadata": {},
   "outputs": [
    {
     "data": {
      "text/plain": [
       "Index(['Unnamed: 0', 'Unnamed: 0.1', 'gender', 'race/ethnicity',\n",
       "       'parental level of education', 'lunch', 'test preparation course',\n",
       "       'math score', 'reading score', 'writing score', 'gender_map',\n",
       "       'race/ethinicity_map', 'parental_level_of_education_map', 'lunch_map',\n",
       "       'test_preparation_course_map', 'Result', 'math_performance',\n",
       "       'reading_performance', 'writing_performance', 'total', 'percentage',\n",
       "       'grades', 'Result_map', 'grades_map'],\n",
       "      dtype='object')"
      ]
     },
     "execution_count": 3,
     "metadata": {},
     "output_type": "execute_result"
    }
   ],
   "source": [
    "df.columns"
   ]
  },
  {
   "cell_type": "markdown",
   "metadata": {},
   "source": [
    "# Predicting scores:"
   ]
  },
  {
   "cell_type": "markdown",
   "metadata": {},
   "source": [
    "# Predict math score \n"
   ]
  },
  {
   "cell_type": "markdown",
   "metadata": {},
   "source": [
    "# Using Linear Regression and Random Forest"
   ]
  },
  {
   "cell_type": "code",
   "execution_count": 4,
   "metadata": {},
   "outputs": [],
   "source": [
    "# Importing necessary libraries\n",
    "from sklearn.linear_model import LinearRegression\n",
    "from sklearn.model_selection import train_test_split\n",
    "import numpy as np\n",
    "from matplotlib import pyplot as plt"
   ]
  },
  {
   "cell_type": "code",
   "execution_count": 5,
   "metadata": {},
   "outputs": [],
   "source": [
    "#Creating a linear model \n",
    "model = LinearRegression()"
   ]
  },
  {
   "cell_type": "code",
   "execution_count": 6,
   "metadata": {},
   "outputs": [],
   "source": [
    "# training data\n",
    "x = df[['test_preparation_course_map','gender_map','writing score','reading score','grades_map','Result_map']]\n",
    "# target values \n",
    "y = df['math score']"
   ]
  },
  {
   "cell_type": "code",
   "execution_count": 7,
   "metadata": {},
   "outputs": [],
   "source": [
    "# Splitting into training data and test data\n",
    "x_train,x_test,y_train,y_test = train_test_split(x,y,test_size=0.20,random_state = 40)"
   ]
  },
  {
   "cell_type": "code",
   "execution_count": 8,
   "metadata": {},
   "outputs": [
    {
     "data": {
      "text/plain": [
       "LinearRegression(copy_X=True, fit_intercept=True, n_jobs=None,\n",
       "         normalize=False)"
      ]
     },
     "execution_count": 8,
     "metadata": {},
     "output_type": "execute_result"
    }
   ],
   "source": [
    "# Fitting linear model\n",
    "model.fit(x_train,y_train)"
   ]
  },
  {
   "cell_type": "code",
   "execution_count": 9,
   "metadata": {},
   "outputs": [
    {
     "data": {
      "text/plain": [
       "0.8536735927578202"
      ]
     },
     "execution_count": 9,
     "metadata": {},
     "output_type": "execute_result"
    }
   ],
   "source": [
    "model.score(x_test,y_test)"
   ]
  },
  {
   "cell_type": "code",
   "execution_count": 10,
   "metadata": {},
   "outputs": [
    {
     "data": {
      "text/plain": [
       "0.8676080875603899"
      ]
     },
     "execution_count": 10,
     "metadata": {},
     "output_type": "execute_result"
    }
   ],
   "source": [
    "model.score(x_train,y_train)"
   ]
  },
  {
   "cell_type": "code",
   "execution_count": 11,
   "metadata": {},
   "outputs": [
    {
     "data": {
      "text/plain": [
       "array([46.12544272, 65.57323361, 86.82298478, 68.59953789, 49.26792894,\n",
       "       50.93524128, 60.07921512, 56.59423062, 61.9321963 , 65.57514138,\n",
       "       56.01045044, 72.31575511, 79.25664872, 88.69245446, 56.8507535 ,\n",
       "       67.26392833, 74.56115464, 46.41918239, 69.33367789, 54.11569061,\n",
       "       79.10628891, 78.48833084, 72.84583   , 84.22440787, 66.45394819,\n",
       "       36.74130144, 58.41190278, 90.4292537 , 87.45096171, 62.08446388,\n",
       "       61.44199229, 79.6255683 , 29.87749551, 77.51415647, 61.58155661,\n",
       "       78.80366151, 46.04137509, 69.86375278, 52.9342564 , 59.43218167,\n",
       "       50.12587438, 61.32694151, 43.89340671, 61.24362019, 59.00636208,\n",
       "       67.61456803, 64.28754412, 40.45373343, 65.74888358, 54.34504587,\n",
       "       78.94322583, 87.35305967, 79.93899119, 45.47599118, 57.5311882 ,\n",
       "       59.24460506, 80.62133366, 30.52885483, 72.31766288, 46.87407737,\n",
       "       84.80058728, 54.4720233 , 83.10864502, 90.70849872, 72.62029028,\n",
       "       60.07730735, 69.81764826, 77.51415647, 70.54609525, 40.95851816,\n",
       "       91.0402015 , 75.77166422, 75.49811221, 63.75177623, 81.95184073,\n",
       "       58.40301505, 73.83270764, 85.66236494, 91.69346859, 61.4311968 ,\n",
       "       46.56954221, 39.44347341, 77.46805195, 84.07214028, 70.09120027,\n",
       "       78.61343082, 46.22969801, 84.22440787, 96.87484081, 45.39699573,\n",
       "       41.22588353, 71.65870279, 57.50211282, 63.22170134, 48.92999252,\n",
       "       78.34876653, 61.24985383, 99.52521525, 73.2716496 , 81.26189748,\n",
       "       88.5862914 , 90.58530652, 69.23577584, 72.1653953 , 50.25480658,\n",
       "       72.2348822 , 73.49020936, 61.20374931, 60.9491342 , 74.28190962,\n",
       "       66.17470317, 49.83787471, 54.50109869, 59.43408945, 71.40787292,\n",
       "       60.11452415, 84.82966266, 66.05151097, 70.37110553, 48.19963775,\n",
       "       62.99425385, 51.84503124, 66.43313382, 71.58352289, 56.59423062,\n",
       "       77.99812684, 53.03406622, 78.64059843, 40.77098855, 66.98402308,\n",
       "       87.93493208, 83.79098749, 63.59950864, 61.27892921, 85.17839458,\n",
       "       58.59947939, 69.43793318, 46.69273441, 51.42809937, 77.58933638,\n",
       "       67.11356852, 35.15107678, 79.18146881, 70.94728494, 57.6915972 ,\n",
       "       65.7255012 , 65.74888358, 84.44425458, 66.77995797, 70.62127516,\n",
       "       93.8447513 , 62.31191138, 71.83369252, 72.31766288, 47.94502265,\n",
       "       97.45102022, 89.89917882, 68.40116579, 89.79870876, 63.29688124,\n",
       "       87.25449738, 64.05440362, 78.71768611, 68.9773452 , 28.17920001,\n",
       "       68.57424774, 84.60221517, 69.3551525 , 71.053448  , 65.14362878,\n",
       "       56.74649821, 76.52029888, 60.53220233, 71.12862791, 56.39585852,\n",
       "       56.36678313, 78.83897054, 65.4923607 , 49.26792894, 83.30701713,\n",
       "       90.10324393, 89.07026176, 66.58349363, 34.54200644, 67.81863313,\n",
       "       58.25963519, 77.12746144, 72.1597023 , 33.38329438, 47.67770428,\n",
       "       67.08449314, 73.60526015, 73.17374755, 79.25664872, 60.52331461,\n",
       "       60.71977894, 72.61459728, 71.9859601 , 58.97728669, 36.45330177])"
      ]
     },
     "execution_count": 11,
     "metadata": {},
     "output_type": "execute_result"
    }
   ],
   "source": [
    "# Predicting math score with x_test data\n",
    "prediction=model.predict(x_test)\n",
    "prediction"
   ]
  },
  {
   "cell_type": "code",
   "execution_count": 12,
   "metadata": {},
   "outputs": [
    {
     "data": {
      "text/plain": [
       "Text(0, 0.5, 'Predictions')"
      ]
     },
     "execution_count": 12,
     "metadata": {},
     "output_type": "execute_result"
    },
    {
     "data": {
      "image/png": "[encoded data removed]",
      "text/plain": [
       "<Figure size 432x288 with 1 Axes>"
      ]
     },
     "metadata": {
      "needs_background": "light"
     },
     "output_type": "display_data"
    }
   ],
   "source": [
    "plt.scatter(y_test, prediction)\n",
    "plt.xlabel(\"True Values\")\n",
    "plt.ylabel(\"Predictions\")"
   ]
  },
  {
   "cell_type": "markdown",
   "metadata": {},
   "source": [
    "Fitting X and y in RandomForestClassifier:"
   ]
  },
  {
   "cell_type": "code",
   "execution_count": 13,
   "metadata": {},
   "outputs": [],
   "source": [
    "# Importing random forest\n",
    "from sklearn.ensemble import RandomForestClassifier"
   ]
  },
  {
   "cell_type": "code",
   "execution_count": 14,
   "metadata": {},
   "outputs": [
    {
     "data": {
      "text/plain": [
       "RandomForestClassifier(bootstrap=True, class_weight=None, criterion='gini',\n",
       "            max_depth=2, max_features='auto', max_leaf_nodes=None,\n",
       "            min_impurity_decrease=0.0, min_impurity_split=None,\n",
       "            min_samples_leaf=1, min_samples_split=2,\n",
       "            min_weight_fraction_leaf=0.0, n_estimators=100, n_jobs=None,\n",
       "            oob_score=False, random_state=0, verbose=0, warm_start=False)"
      ]
     },
     "execution_count": 14,
     "metadata": {},
     "output_type": "execute_result"
    }
   ],
   "source": [
    "clf = RandomForestClassifier(n_estimators=100, max_depth=2,\n",
    "                             random_state=0)\n",
    "clf.fit(x, y)"
   ]
  },
  {
   "cell_type": "markdown",
   "metadata": {},
   "source": [
    "# Checking important features"
   ]
  },
  {
   "cell_type": "code",
   "execution_count": 15,
   "metadata": {},
   "outputs": [
    {
     "data": {
      "text/plain": [
       "array([0.01849609, 0.04902523, 0.19433559, 0.26841023, 0.40265483,\n",
       "       0.06707803])"
      ]
     },
     "execution_count": 15,
     "metadata": {},
     "output_type": "execute_result"
    }
   ],
   "source": [
    "clf.feature_importances_"
   ]
  },
  {
   "cell_type": "code",
   "execution_count": 16,
   "metadata": {},
   "outputs": [
    {
     "data": {
      "text/html": [
       "<div>\n",
       "<style scoped>\n",
       "    .dataframe tbody tr th:only-of-type {\n",
       "        vertical-align: middle;\n",
       "    }\n",
       "\n",
       "    .dataframe tbody tr th {\n",
       "        vertical-align: top;\n",
       "    }\n",
       "\n",
       "    .dataframe thead th {\n",
       "        text-align: right;\n",
       "    }\n",
       "</style>\n",
       "<table border=\"1\" class=\"dataframe\">\n",
       "  <thead>\n",
       "    <tr style=\"text-align: right;\">\n",
       "      <th></th>\n",
       "      <th>feature</th>\n",
       "      <th>importance</th>\n",
       "    </tr>\n",
       "  </thead>\n",
       "  <tbody>\n",
       "    <tr>\n",
       "      <th>0</th>\n",
       "      <td>test_preparation_course_map</td>\n",
       "      <td>0.018496</td>\n",
       "    </tr>\n",
       "    <tr>\n",
       "      <th>1</th>\n",
       "      <td>gender_map</td>\n",
       "      <td>0.049025</td>\n",
       "    </tr>\n",
       "    <tr>\n",
       "      <th>2</th>\n",
       "      <td>writing score</td>\n",
       "      <td>0.194336</td>\n",
       "    </tr>\n",
       "    <tr>\n",
       "      <th>3</th>\n",
       "      <td>reading score</td>\n",
       "      <td>0.268410</td>\n",
       "    </tr>\n",
       "    <tr>\n",
       "      <th>4</th>\n",
       "      <td>grades_map</td>\n",
       "      <td>0.402655</td>\n",
       "    </tr>\n",
       "    <tr>\n",
       "      <th>5</th>\n",
       "      <td>Result_map</td>\n",
       "      <td>0.067078</td>\n",
       "    </tr>\n",
       "  </tbody>\n",
       "</table>\n",
       "</div>"
      ],
      "text/plain": [
       "                       feature  importance\n",
       "0  test_preparation_course_map    0.018496\n",
       "1                   gender_map    0.049025\n",
       "2                writing score    0.194336\n",
       "3                reading score    0.268410\n",
       "4                   grades_map    0.402655\n",
       "5                   Result_map    0.067078"
      ]
     },
     "execution_count": 16,
     "metadata": {},
     "output_type": "execute_result"
    }
   ],
   "source": [
    "feature=['test_preparation_course_map','gender_map','writing score','reading score','grades_map','Result_map']\n",
    "feature_imp=pd.DataFrame({'feature':feature,'importance':clf.feature_importances_})\n",
    "feature_imp"
   ]
  },
  {
   "cell_type": "markdown",
   "metadata": {},
   "source": [
    "# Removing the least important feature:"
   ]
  },
  {
   "cell_type": "code",
   "execution_count": 17,
   "metadata": {},
   "outputs": [],
   "source": [
    "x1=df[['gender_map','writing score','reading score','grades_map','Result_map']]"
   ]
  },
  {
   "cell_type": "code",
   "execution_count": 18,
   "metadata": {},
   "outputs": [
    {
     "data": {
      "text/plain": [
       "RandomForestClassifier(bootstrap=True, class_weight=None, criterion='gini',\n",
       "            max_depth=2, max_features='auto', max_leaf_nodes=None,\n",
       "            min_impurity_decrease=0.0, min_impurity_split=None,\n",
       "            min_samples_leaf=1, min_samples_split=2,\n",
       "            min_weight_fraction_leaf=0.0, n_estimators=100, n_jobs=None,\n",
       "            oob_score=False, random_state=0, verbose=0, warm_start=False)"
      ]
     },
     "execution_count": 18,
     "metadata": {},
     "output_type": "execute_result"
    }
   ],
   "source": [
    "clf.fit(x1,y)"
   ]
  },
  {
   "cell_type": "code",
   "execution_count": 19,
   "metadata": {},
   "outputs": [
    {
     "data": {
      "text/plain": [
       "array([0.02337571, 0.18360695, 0.30474366, 0.42725031, 0.06102338])"
      ]
     },
     "execution_count": 19,
     "metadata": {},
     "output_type": "execute_result"
    }
   ],
   "source": [
    "clf.feature_importances_"
   ]
  },
  {
   "cell_type": "code",
   "execution_count": 20,
   "metadata": {},
   "outputs": [
    {
     "data": {
      "text/html": [
       "<div>\n",
       "<style scoped>\n",
       "    .dataframe tbody tr th:only-of-type {\n",
       "        vertical-align: middle;\n",
       "    }\n",
       "\n",
       "    .dataframe tbody tr th {\n",
       "        vertical-align: top;\n",
       "    }\n",
       "\n",
       "    .dataframe thead th {\n",
       "        text-align: right;\n",
       "    }\n",
       "</style>\n",
       "<table border=\"1\" class=\"dataframe\">\n",
       "  <thead>\n",
       "    <tr style=\"text-align: right;\">\n",
       "      <th></th>\n",
       "      <th>feature</th>\n",
       "      <th>importance</th>\n",
       "    </tr>\n",
       "  </thead>\n",
       "  <tbody>\n",
       "    <tr>\n",
       "      <th>0</th>\n",
       "      <td>gender_map</td>\n",
       "      <td>0.023376</td>\n",
       "    </tr>\n",
       "    <tr>\n",
       "      <th>1</th>\n",
       "      <td>writing score</td>\n",
       "      <td>0.183607</td>\n",
       "    </tr>\n",
       "    <tr>\n",
       "      <th>2</th>\n",
       "      <td>reading score</td>\n",
       "      <td>0.304744</td>\n",
       "    </tr>\n",
       "    <tr>\n",
       "      <th>3</th>\n",
       "      <td>grades_map</td>\n",
       "      <td>0.427250</td>\n",
       "    </tr>\n",
       "    <tr>\n",
       "      <th>4</th>\n",
       "      <td>Result_map</td>\n",
       "      <td>0.061023</td>\n",
       "    </tr>\n",
       "  </tbody>\n",
       "</table>\n",
       "</div>"
      ],
      "text/plain": [
       "         feature  importance\n",
       "0     gender_map    0.023376\n",
       "1  writing score    0.183607\n",
       "2  reading score    0.304744\n",
       "3     grades_map    0.427250\n",
       "4     Result_map    0.061023"
      ]
     },
     "execution_count": 20,
     "metadata": {},
     "output_type": "execute_result"
    }
   ],
   "source": [
    "feature1=['gender_map','writing score','reading score','grades_map','Result_map']\n",
    "feature_imp1=pd.DataFrame({'feature':feature1,'importance':clf.feature_importances_})\n",
    "feature_imp1"
   ]
  },
  {
   "cell_type": "markdown",
   "metadata": {},
   "source": [
    "Prediciting math score without test preparation course:"
   ]
  },
  {
   "cell_type": "code",
   "execution_count": 21,
   "metadata": {},
   "outputs": [],
   "source": [
    "x1_train,x1_test,y1_train,y1_test= train_test_split(x1,y,test_size=0.2,random_state=123)"
   ]
  },
  {
   "cell_type": "markdown",
   "metadata": {},
   "source": [
    "fitting x1_train and y1_train in linear model"
   ]
  },
  {
   "cell_type": "code",
   "execution_count": 22,
   "metadata": {},
   "outputs": [
    {
     "data": {
      "text/plain": [
       "LinearRegression(copy_X=True, fit_intercept=True, n_jobs=None,\n",
       "         normalize=False)"
      ]
     },
     "execution_count": 22,
     "metadata": {},
     "output_type": "execute_result"
    }
   ],
   "source": [
    "model.fit(x1_train,y1_train)"
   ]
  },
  {
   "cell_type": "code",
   "execution_count": 23,
   "metadata": {},
   "outputs": [
    {
     "data": {
      "text/plain": [
       "0.8677208067174779"
      ]
     },
     "execution_count": 23,
     "metadata": {},
     "output_type": "execute_result"
    }
   ],
   "source": [
    "model.score(x1_test,y1_test)"
   ]
  },
  {
   "cell_type": "code",
   "execution_count": 24,
   "metadata": {},
   "outputs": [
    {
     "data": {
      "text/plain": [
       "array([40.8017036 , 61.6597667 , 56.91753744, 66.63464731, 60.49673562,\n",
       "       68.12043464, 78.51008937, 55.46579387, 74.04454619, 73.501165  ,\n",
       "       58.51363725, 84.38813076, 58.8243671 , 68.81635325, 66.92335979,\n",
       "       28.85681763, 48.34460747, 70.59085306, 85.58520561, 74.01050242,\n",
       "       76.2602959 , 85.69551809, 83.58325605, 33.57702952, 86.85172438,\n",
       "       80.3488315 , 87.24939296, 70.04747187, 63.87551641, 41.93069092,\n",
       "       79.91576278, 71.57412777, 87.25074933, 78.14510818, 52.15645698,\n",
       "       64.27454136, 49.54168232, 26.78678054, 62.03677428, 59.82102457,\n",
       "       76.80367709, 74.04454619, 78.2093505 , 68.23074712, 65.69224116,\n",
       "       67.43269721, 24.13796211, 66.34593483, 74.2992149 , 68.74008454,\n",
       "       78.2093505 , 68.08639088, 67.7976784 , 48.3105637 , 63.55276016,\n",
       "       72.19377767, 47.47028886, 67.43269721, 56.66286873, 72.48249015,\n",
       "       78.24339427, 62.18113052, 76.10391327, 50.05101975, 38.58662903,\n",
       "       89.71981137, 85.76360562, 66.09126612, 63.51053523, 87.14726166,\n",
       "       67.25429721, 57.35060616, 60.83969942, 72.33813391, 59.55432947,\n",
       "       69.10506573, 74.55388361, 91.68089237, 51.62510218, 38.48969932,\n",
       "       74.62197115, 68.37510336, 75.31788975, 86.16263057, 87.75873038,\n",
       "       87.25074933, 71.28541529, 58.2930123 , 89.06611771, 69.2153782 ,\n",
       "       52.42315208, 37.54729317, 75.89531471, 62.67844155, 78.73071431,\n",
       "       88.15775533, 70.44649682, 69.46869054, 78.84102679, 62.71248532,\n",
       "       71.31945906, 77.31301451, 78.49806298, 76.2602959 , 75.06322104,\n",
       "       47.33795901, 77.56768322, 68.27161568, 73.53520877, 66.12530988,\n",
       "       71.17645919, 30.30991757, 79.07548794, 69.43464677, 61.54945423,\n",
       "       74.66419609, 94.77096068, 35.53946689, 53.71715665, 86.41729929,\n",
       "       79.22802535, 77.42332699, 85.76360562, 57.09593744, 98.98183515,\n",
       "       80.56945644, 61.69381047, 46.79457781, 72.66224653, 78.4760456 ,\n",
       "       58.54768101, 58.08056853, 64.30858513, 70.81012163, 79.44046912,\n",
       "       70.15778434, 60.71736056, 78.51008937, 85.72956185, 48.70140748,\n",
       "       45.56866078, 71.93910896, 79.92778917, 57.31656239, 81.62217506,\n",
       "       52.98855065, 78.67646298, 31.28636748, 71.54008401, 72.44844638,\n",
       "       59.444017  , 50.02900237, 77.74608323, 56.08544377, 46.14088415,\n",
       "       65.51248479, 61.77007918, 77.98872555, 69.35973444, 68.12043464,\n",
       "       46.03057168, 67.57569708, 73.5774337 , 67.7976784 , 57.84791719,\n",
       "       75.86127094, 76.00562718, 70.70116553, 58.00429982, 70.34300915,\n",
       "       29.59265673, 88.77740523, 62.78057285, 71.82879648, 56.51851249,\n",
       "       31.79570491, 89.32078642, 72.48249015, 89.65172384, 63.6208477 ,\n",
       "       80.06011902, 82.45426873, 67.68736592, 66.01499741, 84.89064338,\n",
       "       68.16265958, 67.94067826, 71.68444024, 60.60704809, 50.35175862,\n",
       "       58.79032333, 64.52921007, 61.78210557, 72.95778381, 74.01050242,\n",
       "       61.40509799, 67.28834097, 69.83367172, 80.32681412, 96.98671039])"
      ]
     },
     "execution_count": 24,
     "metadata": {},
     "output_type": "execute_result"
    }
   ],
   "source": [
    "prediction1=model.predict(x1_test)\n",
    "prediction1"
   ]
  },
  {
   "cell_type": "code",
   "execution_count": 25,
   "metadata": {},
   "outputs": [
    {
     "data": {
      "text/html": [
       "<div>\n",
       "<style scoped>\n",
       "    .dataframe tbody tr th:only-of-type {\n",
       "        vertical-align: middle;\n",
       "    }\n",
       "\n",
       "    .dataframe tbody tr th {\n",
       "        vertical-align: top;\n",
       "    }\n",
       "\n",
       "    .dataframe thead th {\n",
       "        text-align: right;\n",
       "    }\n",
       "</style>\n",
       "<table border=\"1\" class=\"dataframe\">\n",
       "  <thead>\n",
       "    <tr style=\"text-align: right;\">\n",
       "      <th></th>\n",
       "      <th>With test preparation course</th>\n",
       "      <th>Without test preparation course</th>\n",
       "    </tr>\n",
       "  </thead>\n",
       "  <tbody>\n",
       "    <tr>\n",
       "      <th>0</th>\n",
       "      <td>46.125443</td>\n",
       "      <td>40.801704</td>\n",
       "    </tr>\n",
       "    <tr>\n",
       "      <th>1</th>\n",
       "      <td>65.573234</td>\n",
       "      <td>61.659767</td>\n",
       "    </tr>\n",
       "    <tr>\n",
       "      <th>2</th>\n",
       "      <td>86.822985</td>\n",
       "      <td>56.917537</td>\n",
       "    </tr>\n",
       "    <tr>\n",
       "      <th>3</th>\n",
       "      <td>68.599538</td>\n",
       "      <td>66.634647</td>\n",
       "    </tr>\n",
       "    <tr>\n",
       "      <th>4</th>\n",
       "      <td>49.267929</td>\n",
       "      <td>60.496736</td>\n",
       "    </tr>\n",
       "    <tr>\n",
       "      <th>5</th>\n",
       "      <td>50.935241</td>\n",
       "      <td>68.120435</td>\n",
       "    </tr>\n",
       "    <tr>\n",
       "      <th>6</th>\n",
       "      <td>60.079215</td>\n",
       "      <td>78.510089</td>\n",
       "    </tr>\n",
       "    <tr>\n",
       "      <th>7</th>\n",
       "      <td>56.594231</td>\n",
       "      <td>55.465794</td>\n",
       "    </tr>\n",
       "    <tr>\n",
       "      <th>8</th>\n",
       "      <td>61.932196</td>\n",
       "      <td>74.044546</td>\n",
       "    </tr>\n",
       "    <tr>\n",
       "      <th>9</th>\n",
       "      <td>65.575141</td>\n",
       "      <td>73.501165</td>\n",
       "    </tr>\n",
       "    <tr>\n",
       "      <th>10</th>\n",
       "      <td>56.010450</td>\n",
       "      <td>58.513637</td>\n",
       "    </tr>\n",
       "    <tr>\n",
       "      <th>11</th>\n",
       "      <td>72.315755</td>\n",
       "      <td>84.388131</td>\n",
       "    </tr>\n",
       "    <tr>\n",
       "      <th>12</th>\n",
       "      <td>79.256649</td>\n",
       "      <td>58.824367</td>\n",
       "    </tr>\n",
       "    <tr>\n",
       "      <th>13</th>\n",
       "      <td>88.692454</td>\n",
       "      <td>68.816353</td>\n",
       "    </tr>\n",
       "    <tr>\n",
       "      <th>14</th>\n",
       "      <td>56.850753</td>\n",
       "      <td>66.923360</td>\n",
       "    </tr>\n",
       "    <tr>\n",
       "      <th>15</th>\n",
       "      <td>67.263928</td>\n",
       "      <td>28.856818</td>\n",
       "    </tr>\n",
       "    <tr>\n",
       "      <th>16</th>\n",
       "      <td>74.561155</td>\n",
       "      <td>48.344607</td>\n",
       "    </tr>\n",
       "    <tr>\n",
       "      <th>17</th>\n",
       "      <td>46.419182</td>\n",
       "      <td>70.590853</td>\n",
       "    </tr>\n",
       "    <tr>\n",
       "      <th>18</th>\n",
       "      <td>69.333678</td>\n",
       "      <td>85.585206</td>\n",
       "    </tr>\n",
       "    <tr>\n",
       "      <th>19</th>\n",
       "      <td>54.115691</td>\n",
       "      <td>74.010502</td>\n",
       "    </tr>\n",
       "    <tr>\n",
       "      <th>20</th>\n",
       "      <td>79.106289</td>\n",
       "      <td>76.260296</td>\n",
       "    </tr>\n",
       "    <tr>\n",
       "      <th>21</th>\n",
       "      <td>78.488331</td>\n",
       "      <td>85.695518</td>\n",
       "    </tr>\n",
       "    <tr>\n",
       "      <th>22</th>\n",
       "      <td>72.845830</td>\n",
       "      <td>83.583256</td>\n",
       "    </tr>\n",
       "    <tr>\n",
       "      <th>23</th>\n",
       "      <td>84.224408</td>\n",
       "      <td>33.577030</td>\n",
       "    </tr>\n",
       "    <tr>\n",
       "      <th>24</th>\n",
       "      <td>66.453948</td>\n",
       "      <td>86.851724</td>\n",
       "    </tr>\n",
       "    <tr>\n",
       "      <th>25</th>\n",
       "      <td>36.741301</td>\n",
       "      <td>80.348831</td>\n",
       "    </tr>\n",
       "    <tr>\n",
       "      <th>26</th>\n",
       "      <td>58.411903</td>\n",
       "      <td>87.249393</td>\n",
       "    </tr>\n",
       "    <tr>\n",
       "      <th>27</th>\n",
       "      <td>90.429254</td>\n",
       "      <td>70.047472</td>\n",
       "    </tr>\n",
       "    <tr>\n",
       "      <th>28</th>\n",
       "      <td>87.450962</td>\n",
       "      <td>63.875516</td>\n",
       "    </tr>\n",
       "    <tr>\n",
       "      <th>29</th>\n",
       "      <td>62.084464</td>\n",
       "      <td>41.930691</td>\n",
       "    </tr>\n",
       "    <tr>\n",
       "      <th>...</th>\n",
       "      <td>...</td>\n",
       "      <td>...</td>\n",
       "    </tr>\n",
       "    <tr>\n",
       "      <th>170</th>\n",
       "      <td>56.746498</td>\n",
       "      <td>29.592657</td>\n",
       "    </tr>\n",
       "    <tr>\n",
       "      <th>171</th>\n",
       "      <td>76.520299</td>\n",
       "      <td>88.777405</td>\n",
       "    </tr>\n",
       "    <tr>\n",
       "      <th>172</th>\n",
       "      <td>60.532202</td>\n",
       "      <td>62.780573</td>\n",
       "    </tr>\n",
       "    <tr>\n",
       "      <th>173</th>\n",
       "      <td>71.128628</td>\n",
       "      <td>71.828796</td>\n",
       "    </tr>\n",
       "    <tr>\n",
       "      <th>174</th>\n",
       "      <td>56.395859</td>\n",
       "      <td>56.518512</td>\n",
       "    </tr>\n",
       "    <tr>\n",
       "      <th>175</th>\n",
       "      <td>56.366783</td>\n",
       "      <td>31.795705</td>\n",
       "    </tr>\n",
       "    <tr>\n",
       "      <th>176</th>\n",
       "      <td>78.838971</td>\n",
       "      <td>89.320786</td>\n",
       "    </tr>\n",
       "    <tr>\n",
       "      <th>177</th>\n",
       "      <td>65.492361</td>\n",
       "      <td>72.482490</td>\n",
       "    </tr>\n",
       "    <tr>\n",
       "      <th>178</th>\n",
       "      <td>49.267929</td>\n",
       "      <td>89.651724</td>\n",
       "    </tr>\n",
       "    <tr>\n",
       "      <th>179</th>\n",
       "      <td>83.307017</td>\n",
       "      <td>63.620848</td>\n",
       "    </tr>\n",
       "    <tr>\n",
       "      <th>180</th>\n",
       "      <td>90.103244</td>\n",
       "      <td>80.060119</td>\n",
       "    </tr>\n",
       "    <tr>\n",
       "      <th>181</th>\n",
       "      <td>89.070262</td>\n",
       "      <td>82.454269</td>\n",
       "    </tr>\n",
       "    <tr>\n",
       "      <th>182</th>\n",
       "      <td>66.583494</td>\n",
       "      <td>67.687366</td>\n",
       "    </tr>\n",
       "    <tr>\n",
       "      <th>183</th>\n",
       "      <td>34.542006</td>\n",
       "      <td>66.014997</td>\n",
       "    </tr>\n",
       "    <tr>\n",
       "      <th>184</th>\n",
       "      <td>67.818633</td>\n",
       "      <td>84.890643</td>\n",
       "    </tr>\n",
       "    <tr>\n",
       "      <th>185</th>\n",
       "      <td>58.259635</td>\n",
       "      <td>68.162660</td>\n",
       "    </tr>\n",
       "    <tr>\n",
       "      <th>186</th>\n",
       "      <td>77.127461</td>\n",
       "      <td>67.940678</td>\n",
       "    </tr>\n",
       "    <tr>\n",
       "      <th>187</th>\n",
       "      <td>72.159702</td>\n",
       "      <td>71.684440</td>\n",
       "    </tr>\n",
       "    <tr>\n",
       "      <th>188</th>\n",
       "      <td>33.383294</td>\n",
       "      <td>60.607048</td>\n",
       "    </tr>\n",
       "    <tr>\n",
       "      <th>189</th>\n",
       "      <td>47.677704</td>\n",
       "      <td>50.351759</td>\n",
       "    </tr>\n",
       "    <tr>\n",
       "      <th>190</th>\n",
       "      <td>67.084493</td>\n",
       "      <td>58.790323</td>\n",
       "    </tr>\n",
       "    <tr>\n",
       "      <th>191</th>\n",
       "      <td>73.605260</td>\n",
       "      <td>64.529210</td>\n",
       "    </tr>\n",
       "    <tr>\n",
       "      <th>192</th>\n",
       "      <td>73.173748</td>\n",
       "      <td>61.782106</td>\n",
       "    </tr>\n",
       "    <tr>\n",
       "      <th>193</th>\n",
       "      <td>79.256649</td>\n",
       "      <td>72.957784</td>\n",
       "    </tr>\n",
       "    <tr>\n",
       "      <th>194</th>\n",
       "      <td>60.523315</td>\n",
       "      <td>74.010502</td>\n",
       "    </tr>\n",
       "    <tr>\n",
       "      <th>195</th>\n",
       "      <td>60.719779</td>\n",
       "      <td>61.405098</td>\n",
       "    </tr>\n",
       "    <tr>\n",
       "      <th>196</th>\n",
       "      <td>72.614597</td>\n",
       "      <td>67.288341</td>\n",
       "    </tr>\n",
       "    <tr>\n",
       "      <th>197</th>\n",
       "      <td>71.985960</td>\n",
       "      <td>69.833672</td>\n",
       "    </tr>\n",
       "    <tr>\n",
       "      <th>198</th>\n",
       "      <td>58.977287</td>\n",
       "      <td>80.326814</td>\n",
       "    </tr>\n",
       "    <tr>\n",
       "      <th>199</th>\n",
       "      <td>36.453302</td>\n",
       "      <td>96.986710</td>\n",
       "    </tr>\n",
       "  </tbody>\n",
       "</table>\n",
       "<p>200 rows × 2 columns</p>\n",
       "</div>"
      ],
      "text/plain": [
       "     With test preparation course  Without test preparation course\n",
       "0                       46.125443                        40.801704\n",
       "1                       65.573234                        61.659767\n",
       "2                       86.822985                        56.917537\n",
       "3                       68.599538                        66.634647\n",
       "4                       49.267929                        60.496736\n",
       "5                       50.935241                        68.120435\n",
       "6                       60.079215                        78.510089\n",
       "7                       56.594231                        55.465794\n",
       "8                       61.932196                        74.044546\n",
       "9                       65.575141                        73.501165\n",
       "10                      56.010450                        58.513637\n",
       "11                      72.315755                        84.388131\n",
       "12                      79.256649                        58.824367\n",
       "13                      88.692454                        68.816353\n",
       "14                      56.850753                        66.923360\n",
       "15                      67.263928                        28.856818\n",
       "16                      74.561155                        48.344607\n",
       "17                      46.419182                        70.590853\n",
       "18                      69.333678                        85.585206\n",
       "19                      54.115691                        74.010502\n",
       "20                      79.106289                        76.260296\n",
       "21                      78.488331                        85.695518\n",
       "22                      72.845830                        83.583256\n",
       "23                      84.224408                        33.577030\n",
       "24                      66.453948                        86.851724\n",
       "25                      36.741301                        80.348831\n",
       "26                      58.411903                        87.249393\n",
       "27                      90.429254                        70.047472\n",
       "28                      87.450962                        63.875516\n",
       "29                      62.084464                        41.930691\n",
       "..                            ...                              ...\n",
       "170                     56.746498                        29.592657\n",
       "171                     76.520299                        88.777405\n",
       "172                     60.532202                        62.780573\n",
       "173                     71.128628                        71.828796\n",
       "174                     56.395859                        56.518512\n",
       "175                     56.366783                        31.795705\n",
       "176                     78.838971                        89.320786\n",
       "177                     65.492361                        72.482490\n",
       "178                     49.267929                        89.651724\n",
       "179                     83.307017                        63.620848\n",
       "180                     90.103244                        80.060119\n",
       "181                     89.070262                        82.454269\n",
       "182                     66.583494                        67.687366\n",
       "183                     34.542006                        66.014997\n",
       "184                     67.818633                        84.890643\n",
       "185                     58.259635                        68.162660\n",
       "186                     77.127461                        67.940678\n",
       "187                     72.159702                        71.684440\n",
       "188                     33.383294                        60.607048\n",
       "189                     47.677704                        50.351759\n",
       "190                     67.084493                        58.790323\n",
       "191                     73.605260                        64.529210\n",
       "192                     73.173748                        61.782106\n",
       "193                     79.256649                        72.957784\n",
       "194                     60.523315                        74.010502\n",
       "195                     60.719779                        61.405098\n",
       "196                     72.614597                        67.288341\n",
       "197                     71.985960                        69.833672\n",
       "198                     58.977287                        80.326814\n",
       "199                     36.453302                        96.986710\n",
       "\n",
       "[200 rows x 2 columns]"
      ]
     },
     "execution_count": 25,
     "metadata": {},
     "output_type": "execute_result"
    }
   ],
   "source": [
    "compare_predictions = pd.DataFrame({'With test preparation course':prediction,'Without test preparation course':prediction1})\n",
    "compare_predictions"
   ]
  },
  {
   "cell_type": "code",
   "execution_count": 26,
   "metadata": {},
   "outputs": [
    {
     "data": {
      "text/plain": [
       "Text(0, 0.5, 'Predictions')"
      ]
     },
     "execution_count": 26,
     "metadata": {},
     "output_type": "execute_result"
    },
    {
     "data": {
      "image/png": "[encoded data removed]",
      "text/plain": [
       "<Figure size 432x288 with 1 Axes>"
      ]
     },
     "metadata": {
      "needs_background": "light"
     },
     "output_type": "display_data"
    },
    {
     "data": {
      "image/png": "[encoded data removed]",
      "text/plain": [
       "<Figure size 432x288 with 1 Axes>"
      ]
     },
     "metadata": {
      "needs_background": "light"
     },
     "output_type": "display_data"
    }
   ],
   "source": [
    "N = 200\n",
    "plt.figure(1)\n",
    "colors = np.random.rand(N)\n",
    "plt.scatter(y_test, prediction, c=colors)\n",
    "plt.xlabel(\"True Values\")\n",
    "plt.ylabel(\"Predictions\")\n",
    "plt.title(\"With test preparation\")\n",
    "plt.figure(2)\n",
    "colors = np.random.rand(N)\n",
    "plt.scatter(y1_test, prediction1,c=colors)\n",
    "plt.title(\"Without test preparation\")\n",
    "plt.xlabel(\"True Values\")\n",
    "plt.ylabel(\"Predictions\")"
   ]
  },
  {
   "cell_type": "markdown",
   "metadata": {},
   "source": [
    "# Prediction of Reading Score"
   ]
  },
  {
   "cell_type": "code",
   "execution_count": 27,
   "metadata": {},
   "outputs": [],
   "source": [
    "# training data\n",
    "x = df[['test_preparation_course_map','gender_map','writing score','math score','grades_map','Result_map']]\n",
    "# target values \n",
    "y = df['reading score']"
   ]
  },
  {
   "cell_type": "code",
   "execution_count": 28,
   "metadata": {},
   "outputs": [],
   "source": [
    "x_train,x_test,y_train,y_test=train_test_split(x,y,test_size=0.3,random_state=200)"
   ]
  },
  {
   "cell_type": "code",
   "execution_count": 29,
   "metadata": {},
   "outputs": [
    {
     "data": {
      "text/plain": [
       "LinearRegression(copy_X=True, fit_intercept=True, n_jobs=None,\n",
       "         normalize=False)"
      ]
     },
     "execution_count": 29,
     "metadata": {},
     "output_type": "execute_result"
    }
   ],
   "source": [
    "model.fit(x_train,y_train)"
   ]
  },
  {
   "cell_type": "code",
   "execution_count": 30,
   "metadata": {},
   "outputs": [
    {
     "data": {
      "text/plain": [
       "0.917680493967904"
      ]
     },
     "execution_count": 30,
     "metadata": {},
     "output_type": "execute_result"
    }
   ],
   "source": [
    "model.score(x_test,y_test)"
   ]
  },
  {
   "cell_type": "code",
   "execution_count": 31,
   "metadata": {},
   "outputs": [
    {
     "data": {
      "text/plain": [
       "array([76.5071036 , 81.48894697, 57.60721492, 86.60155295, 53.23213423,\n",
       "       75.35986598, 64.20143887, 91.26371337, 70.39700975, 59.16878617,\n",
       "       77.32326742, 75.81462748, 69.82398911, 66.59167741, 44.21171251,\n",
       "       62.46537059, 78.37830792, 78.41426715, 86.37859324, 43.29637187,\n",
       "       65.50289485, 42.87815106, 63.9413236 , 76.60733553, 75.28665601,\n",
       "       70.86205752, 73.09226003, 59.55609784, 72.84689968, 68.52133679,\n",
       "       53.43706674, 72.01376377, 59.65291628, 82.40885143, 40.57011726,\n",
       "       73.98520003, 71.41705096, 69.40518684, 69.1957857 , 83.63829378,\n",
       "       58.35367746, 46.08738547, 78.38383167, 64.62024114, 89.57047709,\n",
       "       59.46495585, 45.98715353, 67.56994174, 73.98966866, 54.37043459,\n",
       "       54.60233155, 71.74917987, 79.50751833, 65.55807762, 90.11647576,\n",
       "       80.45996851, 73.08779141, 56.98348014, 84.93974976, 50.35329696,\n",
       "       61.41836491, 77.21751173, 67.77487424, 74.33526096, 62.35725651,\n",
       "       77.62737675, 75.67396769, 65.50630836, 58.64528333, 68.09344457,\n",
       "       66.84597502, 86.34710264, 51.67056298, 73.72061613, 65.90366992,\n",
       "       38.74843073, 53.26761979, 86.89762745, 53.0407603 , 77.75904177,\n",
       "       63.81859583, 59.13729557, 65.89920129, 97.40529782, 59.48288787,\n",
       "       59.33775945, 74.8272732 , 78.38277655, 78.27360736, 78.88483868,\n",
       "       96.46299271, 72.1139957 , 70.58391505, 94.69648895, 76.90341003,\n",
       "       59.6573849 , 72.76022631, 80.35868144, 54.2791399 , 98.00653676,\n",
       "       35.99010407, 54.13848011, 54.27467127, 65.17523457, 72.25018687,\n",
       "       75.34183878, 45.25871819, 78.26451741, 45.6685832 , 84.16179661,\n",
       "       97.61469895, 90.04326579, 48.96516762, 62.98545992, 45.88245296,\n",
       "       79.32166815, 55.17654853, 54.55281375, 53.87389621, 74.85429517,\n",
       "       51.27425654, 75.81909611, 77.55069576, 73.78473615, 87.81753191,\n",
       "       77.56310403, 79.92185197, 70.58391505, 30.78188747, 65.97241126,\n",
       "       73.09688136, 72.66898914, 91.86048368, 70.33855469, 68.67228287,\n",
       "       85.73692645, 84.72588   , 79.52660066, 55.69558274, 66.7008466 ,\n",
       "       72.17245076, 60.80356739, 64.54150742, 74.718104  , 55.18101716,\n",
       "       81.48342322, 73.18802335, 45.35953158, 75.02773708, 70.02445299,\n",
       "       91.04984361, 39.97787308, 52.73112723, 76.61180416, 66.3867449 ,\n",
       "       89.88011016, 69.1495402 , 84.73034863, 64.98832927, 75.08172351,\n",
       "       61.21343241, 68.07104393, 76.32010311, 15.88567303, 60.3802965 ,\n",
       "       85.6501579 , 55.80475193, 64.2373981 , 72.06328157, 79.71691946,\n",
       "       78.27360736, 58.54505139, 74.02562788, 45.46811932, 51.57033104,\n",
       "       68.46735036, 79.0020427 , 95.61629822, 76.64776339, 54.68900492,\n",
       "       64.02247321, 59.55162921, 68.31193566, 64.02799696, 88.73734118,\n",
       "       78.66991379, 84.69885803, 75.56926712, 65.08856121, 92.92104794,\n",
       "       68.77698344, 86.96636879, 84.17535519, 74.65829992, 73.92092732,\n",
       "       64.75196368, 75.15493348, 93.63145607, 70.96675809, 74.5131715 ,\n",
       "       79.93987918, 72.65105712, 78.39623994, 75.98806939, 73.69806279,\n",
       "       79.73494667, 74.54466209, 75.81462748, 75.75617242, 76.19300189,\n",
       "       87.28493912, 78.05064764, 58.67224779, 49.0017083 , 74.54019346,\n",
       "       97.22738728, 77.45840346, 65.79896935, 92.820816  , 52.29429775,\n",
       "       68.36711842, 49.17903738, 64.1282289 , 70.29230918, 45.3229909 ,\n",
       "       75.46903518, 68.82187992, 49.41546048, 72.69148497, 48.94488895,\n",
       "       85.30009697, 80.77301509, 85.73245782, 82.10821312, 75.25516542,\n",
       "       46.19266749, 82.09474973, 70.19207724, 73.59336222, 53.65540513,\n",
       "       54.20545627, 55.63577865, 90.32140827, 86.984396  , 93.84085721,\n",
       "       69.55031526, 83.4873477 , 88.86006895, 80.33618561, 53.97859678,\n",
       "       79.29811719, 72.94266299, 81.08264816, 56.5691465 , 81.06462095,\n",
       "       54.13401148, 65.86771069, 70.17405003, 75.75617242, 78.69240962,\n",
       "       67.47879975, 67.99783396, 60.38135162, 80.54558675, 58.76801111,\n",
       "       74.02115926, 54.25673926, 70.34302332, 67.16916667, 51.05129683,\n",
       "       56.77854763, 84.83058056, 63.63615915, 51.15047365, 73.50212505,\n",
       "       50.65846141, 71.1897178 , 97.30059725, 64.54703117, 72.00929514,\n",
       "       64.24990155, 88.75536838, 67.69266951, 59.75209309, 79.39834913,\n",
       "       89.72916409, 46.21968946, 84.92619118, 50.00875978, 31.54628204,\n",
       "       68.71717935, 65.86771069, 81.7930563 , 57.17048063, 65.24397592,\n",
       "       69.09108514, 83.11479094, 68.81741129, 73.98966866, 77.84124651])"
      ]
     },
     "execution_count": 31,
     "metadata": {},
     "output_type": "execute_result"
    }
   ],
   "source": [
    "reading_prediction=model.predict(x_test)\n",
    "reading_prediction"
   ]
  },
  {
   "cell_type": "code",
   "execution_count": 32,
   "metadata": {},
   "outputs": [
    {
     "data": {
      "image/png": "[encoded data removed]",
      "text/plain": [
       "<Figure size 432x288 with 1 Axes>"
      ]
     },
     "metadata": {
      "needs_background": "light"
     },
     "output_type": "display_data"
    }
   ],
   "source": [
    "plt.scatter(y_test,reading_prediction)\n",
    "plt.xlabel(\"True Values\")\n",
    "plt.ylabel(\"Predictions\")\n",
    "plt.show()"
   ]
  },
  {
   "cell_type": "markdown",
   "metadata": {},
   "source": [
    "Fitting X and y in RandomForestClassifier"
   ]
  },
  {
   "cell_type": "code",
   "execution_count": 33,
   "metadata": {},
   "outputs": [
    {
     "data": {
      "text/plain": [
       "RandomForestClassifier(bootstrap=True, class_weight=None, criterion='gini',\n",
       "            max_depth=2, max_features='auto', max_leaf_nodes=None,\n",
       "            min_impurity_decrease=0.0, min_impurity_split=None,\n",
       "            min_samples_leaf=1, min_samples_split=2,\n",
       "            min_weight_fraction_leaf=0.0, n_estimators=100, n_jobs=None,\n",
       "            oob_score=False, random_state=0, verbose=0, warm_start=False)"
      ]
     },
     "execution_count": 33,
     "metadata": {},
     "output_type": "execute_result"
    }
   ],
   "source": [
    "clf = RandomForestClassifier(n_estimators=100, max_depth=2,random_state=0);\n",
    "clf.fit(x, y)"
   ]
  },
  {
   "cell_type": "markdown",
   "metadata": {},
   "source": [
    "# Checking the important features"
   ]
  },
  {
   "cell_type": "code",
   "execution_count": 34,
   "metadata": {},
   "outputs": [
    {
     "data": {
      "text/html": [
       "<div>\n",
       "<style scoped>\n",
       "    .dataframe tbody tr th:only-of-type {\n",
       "        vertical-align: middle;\n",
       "    }\n",
       "\n",
       "    .dataframe tbody tr th {\n",
       "        vertical-align: top;\n",
       "    }\n",
       "\n",
       "    .dataframe thead th {\n",
       "        text-align: right;\n",
       "    }\n",
       "</style>\n",
       "<table border=\"1\" class=\"dataframe\">\n",
       "  <thead>\n",
       "    <tr style=\"text-align: right;\">\n",
       "      <th></th>\n",
       "      <th>feature</th>\n",
       "      <th>importance</th>\n",
       "    </tr>\n",
       "  </thead>\n",
       "  <tbody>\n",
       "    <tr>\n",
       "      <th>0</th>\n",
       "      <td>test_preparation_course_map</td>\n",
       "      <td>0.021891</td>\n",
       "    </tr>\n",
       "    <tr>\n",
       "      <th>1</th>\n",
       "      <td>gender_map</td>\n",
       "      <td>0.033825</td>\n",
       "    </tr>\n",
       "    <tr>\n",
       "      <th>2</th>\n",
       "      <td>writing score</td>\n",
       "      <td>0.361775</td>\n",
       "    </tr>\n",
       "    <tr>\n",
       "      <th>3</th>\n",
       "      <td>math score</td>\n",
       "      <td>0.198523</td>\n",
       "    </tr>\n",
       "    <tr>\n",
       "      <th>4</th>\n",
       "      <td>grades_map</td>\n",
       "      <td>0.336638</td>\n",
       "    </tr>\n",
       "    <tr>\n",
       "      <th>5</th>\n",
       "      <td>Result_map</td>\n",
       "      <td>0.047349</td>\n",
       "    </tr>\n",
       "  </tbody>\n",
       "</table>\n",
       "</div>"
      ],
      "text/plain": [
       "                       feature  importance\n",
       "0  test_preparation_course_map    0.021891\n",
       "1                   gender_map    0.033825\n",
       "2                writing score    0.361775\n",
       "3                   math score    0.198523\n",
       "4                   grades_map    0.336638\n",
       "5                   Result_map    0.047349"
      ]
     },
     "execution_count": 34,
     "metadata": {},
     "output_type": "execute_result"
    }
   ],
   "source": [
    "feature=['test_preparation_course_map','gender_map','writing score','math score','grades_map','Result_map']\n",
    "feature_imp=pd.DataFrame({'feature':feature,'importance':clf.feature_importances_})\n",
    "feature_imp"
   ]
  },
  {
   "cell_type": "code",
   "execution_count": 35,
   "metadata": {},
   "outputs": [
    {
     "data": {
      "text/plain": [
       "<matplotlib.axes._subplots.AxesSubplot at 0x7fde7923b0f0>"
      ]
     },
     "execution_count": 35,
     "metadata": {},
     "output_type": "execute_result"
    },
    {
     "data": {
      "image/png": "[encoded data removed]",
      "text/plain": [
       "<Figure size 432x288 with 1 Axes>"
      ]
     },
     "metadata": {
      "needs_background": "light"
     },
     "output_type": "display_data"
    }
   ],
   "source": [
    "feature_imp.plot.bar()"
   ]
  },
  {
   "cell_type": "markdown",
   "metadata": {},
   "source": [
    "# Removing the least important features(test preparation)"
   ]
  },
  {
   "cell_type": "code",
   "execution_count": 36,
   "metadata": {},
   "outputs": [
    {
     "data": {
      "text/plain": [
       "RandomForestClassifier(bootstrap=True, class_weight=None, criterion='gini',\n",
       "            max_depth=2, max_features='auto', max_leaf_nodes=None,\n",
       "            min_impurity_decrease=0.0, min_impurity_split=None,\n",
       "            min_samples_leaf=1, min_samples_split=2,\n",
       "            min_weight_fraction_leaf=0.0, n_estimators=100, n_jobs=None,\n",
       "            oob_score=False, random_state=0, verbose=0, warm_start=False)"
      ]
     },
     "execution_count": 36,
     "metadata": {},
     "output_type": "execute_result"
    }
   ],
   "source": [
    "x1=df[['gender_map','writing score','math score','grades_map','Result_map']]\n",
    "clf.fit(x1,y)"
   ]
  },
  {
   "cell_type": "code",
   "execution_count": 37,
   "metadata": {},
   "outputs": [
    {
     "data": {
      "text/html": [
       "<div>\n",
       "<style scoped>\n",
       "    .dataframe tbody tr th:only-of-type {\n",
       "        vertical-align: middle;\n",
       "    }\n",
       "\n",
       "    .dataframe tbody tr th {\n",
       "        vertical-align: top;\n",
       "    }\n",
       "\n",
       "    .dataframe thead th {\n",
       "        text-align: right;\n",
       "    }\n",
       "</style>\n",
       "<table border=\"1\" class=\"dataframe\">\n",
       "  <thead>\n",
       "    <tr style=\"text-align: right;\">\n",
       "      <th></th>\n",
       "      <th>feature</th>\n",
       "      <th>importance</th>\n",
       "    </tr>\n",
       "  </thead>\n",
       "  <tbody>\n",
       "    <tr>\n",
       "      <th>0</th>\n",
       "      <td>gender_map</td>\n",
       "      <td>0.024557</td>\n",
       "    </tr>\n",
       "    <tr>\n",
       "      <th>1</th>\n",
       "      <td>writing score</td>\n",
       "      <td>0.405906</td>\n",
       "    </tr>\n",
       "    <tr>\n",
       "      <th>2</th>\n",
       "      <td>math score</td>\n",
       "      <td>0.181506</td>\n",
       "    </tr>\n",
       "    <tr>\n",
       "      <th>3</th>\n",
       "      <td>grades_map</td>\n",
       "      <td>0.349128</td>\n",
       "    </tr>\n",
       "    <tr>\n",
       "      <th>4</th>\n",
       "      <td>Result_map</td>\n",
       "      <td>0.038903</td>\n",
       "    </tr>\n",
       "  </tbody>\n",
       "</table>\n",
       "</div>"
      ],
      "text/plain": [
       "         feature  importance\n",
       "0     gender_map    0.024557\n",
       "1  writing score    0.405906\n",
       "2     math score    0.181506\n",
       "3     grades_map    0.349128\n",
       "4     Result_map    0.038903"
      ]
     },
     "execution_count": 37,
     "metadata": {},
     "output_type": "execute_result"
    }
   ],
   "source": [
    "feature1=['gender_map','writing score','math score','grades_map','Result_map']\n",
    "feature_imp1=pd.DataFrame({'feature':feature1,'importance':clf.feature_importances_})\n",
    "feature_imp1"
   ]
  },
  {
   "cell_type": "markdown",
   "metadata": {},
   "source": [
    "# Prediciting reading score without test preparation course"
   ]
  },
  {
   "cell_type": "code",
   "execution_count": 38,
   "metadata": {},
   "outputs": [],
   "source": [
    "x1_train,x1_test,y1_train,y1_test=train_test_split(x1,y,test_size=0.3,random_state=100)"
   ]
  },
  {
   "cell_type": "code",
   "execution_count": 39,
   "metadata": {},
   "outputs": [
    {
     "data": {
      "text/plain": [
       "LinearRegression(copy_X=True, fit_intercept=True, n_jobs=None,\n",
       "         normalize=False)"
      ]
     },
     "execution_count": 39,
     "metadata": {},
     "output_type": "execute_result"
    }
   ],
   "source": [
    "model.fit(x1_train,y1_train)"
   ]
  },
  {
   "cell_type": "code",
   "execution_count": 40,
   "metadata": {},
   "outputs": [
    {
     "data": {
      "text/plain": [
       "0.9161653943311119"
      ]
     },
     "execution_count": 40,
     "metadata": {},
     "output_type": "execute_result"
    }
   ],
   "source": [
    "model.score(x1_test,y1_test)"
   ]
  },
  {
   "cell_type": "code",
   "execution_count": 41,
   "metadata": {},
   "outputs": [
    {
     "data": {
      "text/plain": [
       "array([58.30938263, 57.68857321, 62.00768663, 38.26765996, 47.80238186,\n",
       "       74.88516021, 89.39374678, 67.53116171, 85.05179844, 62.20809039,\n",
       "       84.65422771, 74.48776592, 78.3524533 , 75.98098714, 59.88489042,\n",
       "       44.18394454, 64.519288  , 65.91839675, 67.41403786, 54.64168577,\n",
       "       82.13403721, 87.94637185, 70.47193431, 56.07805169, 82.48316531,\n",
       "       74.79087128, 73.83293612, 74.29936452, 91.77622195, 84.21081068,\n",
       "       72.12830212, 63.46706391, 53.72100779, 78.75861315, 69.02455938,\n",
       "       71.56776125, 66.99363221, 97.72869181, 89.83716381, 67.55417308,\n",
       "       81.36432701, 86.12461401, 76.76494315, 82.15704858, 48.3749251 ,\n",
       "       92.98917273, 93.45560113, 61.28399916, 74.53361221, 69.8653707 ,\n",
       "       70.79805104, 79.59942447, 76.98494504, 79.43627788, 63.88746957,\n",
       "       66.4561027 , 65.89538538, 79.83367216, 74.06736027, 70.8693286 ,\n",
       "       37.98738952, 88.5299241 , 55.42564178, 78.68975549, 66.83048562,\n",
       "       56.66160394, 47.21882962, 60.93487106, 50.66311134, 44.76749678,\n",
       "       69.39669885, 84.79436292, 90.60911746, 58.18025642, 75.84085192,\n",
       "       55.89207018, 91.63591028, 55.77476988, 75.67770533, 54.25853729,\n",
       "       66.24693337, 57.68857321, 71.5217385 , 63.88746957, 76.30728032,\n",
       "       69.58510026, 47.33595346, 79.85668353, 61.70440482, 88.13252981,\n",
       "       92.68606738, 98.87278493, 87.64309004, 70.42591157, 60.81757076,\n",
       "       65.52324591, 75.07131817, 73.50681939, 45.72543194, 54.58483047,\n",
       "       70.47193431, 81.49021642, 81.41034975, 77.21936919, 87.829248  ,\n",
       "       93.7128602 , 76.14413373, 62.09096654, 89.90844137, 49.23874778,\n",
       "       49.7872863 , 83.93054024, 77.24238056, 71.54699332, 62.61425024,\n",
       "       60.92386205, 68.65000002, 68.65000002, 59.23006061, 99.01292015,\n",
       "       74.72201362, 73.78708983, 57.45656896, 88.24965366, 26.56929323,\n",
       "       92.52274433, 93.06045029, 84.23606549, 54.98222476, 61.53042567,\n",
       "       79.4132665 , 78.24633847, 74.97927268, 65.9896743 , 70.28577635,\n",
       "       81.79349823, 79.17901881, 51.8532272 , 67.74033104, 83.8845175 ,\n",
       "       73.97324779, 78.63272374, 89.27662293, 76.77595216, 46.612266  ,\n",
       "       86.94241395, 97.1911623 , 53.62689531, 71.91913279, 91.19266971,\n",
       "       67.13376743, 61.36727908, 57.59670418, 56.80173915, 47.33595346,\n",
       "       52.76289617, 71.91913279, 64.72828088, 66.61907284, 87.0595378 ,\n",
       "       73.90421368, 72.31670353, 80.31210292, 92.14836142, 72.76012055,\n",
       "       72.40857256, 91.42467396, 56.59274628, 86.91957903, 60.16291741,\n",
       "       51.26967495, 56.10106306, 65.40612206, 70.79805104, 79.68270438,\n",
       "       49.15546786, 58.0401212 , 77.89479047, 69.8653707 , 95.46351694,\n",
       "       87.62025512, 56.66160394, 67.22563646, 75.51455874, 68.62698864,\n",
       "       64.30787523, 73.85594749, 58.18025642, 69.28181845, 77.00795641,\n",
       "       71.28973425, 82.93759135, 79.15600744, 77.47438481, 79.43627788,\n",
       "       68.32388329, 63.65546532, 94.34243519, 67.27390264, 77.98890295,\n",
       "       64.76230127, 62.83766538, 65.9896743 , 91.72795576, 78.22332709,\n",
       "       77.49963963, 72.76012055, 62.42809228, 86.89656766, 79.03888359,\n",
       "       49.5530386 , 51.52693402, 69.98249454, 53.44073735, 55.3773756 ,\n",
       "       67.25089127, 54.86510091, 47.11505612, 60.76071546, 32.50117161,\n",
       "       76.42440417, 86.38187307, 47.0786944 , 71.40461466, 53.77786309,\n",
       "       78.85272563, 56.17234062, 49.36688064, 86.94241395, 65.6863925 ,\n",
       "       77.75689869, 56.17234062, 41.79180835, 86.3588617 , 81.69062019,\n",
       "       47.0786944 , 67.94932392, 56.99014056, 58.48353823, 67.01664358,\n",
       "       73.27239524, 83.1838414 , 75.42044627, 79.03888359, 56.5697349 ,\n",
       "       68.95328182, 62.28795706, 91.09838078, 53.78986545, 71.57000469,\n",
       "       77.12508026, 67.34276031, 64.21600619, 92.38260912, 68.58114236,\n",
       "       75.42044627, 68.79013523, 52.57691467, 74.04434889, 69.25656363,\n",
       "       66.19866718, 55.28550656, 69.35067611, 58.55239589, 85.54106176,\n",
       "       84.93449814, 81.46720505, 49.53002723, 70.65791582, 73.80992475,\n",
       "       64.34189561, 73.2263725 , 61.90480858, 70.65791582, 97.8918384 ,\n",
       "       62.25411313, 46.00570238, 63.35218351, 51.32653026, 69.58510026,\n",
       "       75.46871245, 66.47893762, 71.82502031, 56.31247584, 63.79560054,\n",
       "       66.78446287, 69.77108177, 64.09888235, 73.24938387, 80.04284149,\n",
       "       58.91594625, 87.99463804, 82.33102773, 55.28550656, 70.37764538,\n",
       "       66.08378678, 55.58878837, 67.36577168, 68.5098648 , 64.8684161 ])"
      ]
     },
     "execution_count": 41,
     "metadata": {},
     "output_type": "execute_result"
    }
   ],
   "source": [
    "prediction1=model.predict(x1_test)\n",
    "prediction1"
   ]
  },
  {
   "cell_type": "markdown",
   "metadata": {},
   "source": [
    "Comparing Predicitons with and without test preparation course"
   ]
  },
  {
   "cell_type": "code",
   "execution_count": 42,
   "metadata": {},
   "outputs": [
    {
     "data": {
      "text/html": [
       "<div>\n",
       "<style scoped>\n",
       "    .dataframe tbody tr th:only-of-type {\n",
       "        vertical-align: middle;\n",
       "    }\n",
       "\n",
       "    .dataframe tbody tr th {\n",
       "        vertical-align: top;\n",
       "    }\n",
       "\n",
       "    .dataframe thead th {\n",
       "        text-align: right;\n",
       "    }\n",
       "</style>\n",
       "<table border=\"1\" class=\"dataframe\">\n",
       "  <thead>\n",
       "    <tr style=\"text-align: right;\">\n",
       "      <th></th>\n",
       "      <th>With test preparation course</th>\n",
       "      <th>Without test preparation course</th>\n",
       "    </tr>\n",
       "  </thead>\n",
       "  <tbody>\n",
       "    <tr>\n",
       "      <th>0</th>\n",
       "      <td>76.507104</td>\n",
       "      <td>58.309383</td>\n",
       "    </tr>\n",
       "    <tr>\n",
       "      <th>1</th>\n",
       "      <td>81.488947</td>\n",
       "      <td>57.688573</td>\n",
       "    </tr>\n",
       "    <tr>\n",
       "      <th>2</th>\n",
       "      <td>57.607215</td>\n",
       "      <td>62.007687</td>\n",
       "    </tr>\n",
       "    <tr>\n",
       "      <th>3</th>\n",
       "      <td>86.601553</td>\n",
       "      <td>38.267660</td>\n",
       "    </tr>\n",
       "    <tr>\n",
       "      <th>4</th>\n",
       "      <td>53.232134</td>\n",
       "      <td>47.802382</td>\n",
       "    </tr>\n",
       "    <tr>\n",
       "      <th>5</th>\n",
       "      <td>75.359866</td>\n",
       "      <td>74.885160</td>\n",
       "    </tr>\n",
       "    <tr>\n",
       "      <th>6</th>\n",
       "      <td>64.201439</td>\n",
       "      <td>89.393747</td>\n",
       "    </tr>\n",
       "    <tr>\n",
       "      <th>7</th>\n",
       "      <td>91.263713</td>\n",
       "      <td>67.531162</td>\n",
       "    </tr>\n",
       "    <tr>\n",
       "      <th>8</th>\n",
       "      <td>70.397010</td>\n",
       "      <td>85.051798</td>\n",
       "    </tr>\n",
       "    <tr>\n",
       "      <th>9</th>\n",
       "      <td>59.168786</td>\n",
       "      <td>62.208090</td>\n",
       "    </tr>\n",
       "    <tr>\n",
       "      <th>10</th>\n",
       "      <td>77.323267</td>\n",
       "      <td>84.654228</td>\n",
       "    </tr>\n",
       "    <tr>\n",
       "      <th>11</th>\n",
       "      <td>75.814627</td>\n",
       "      <td>74.487766</td>\n",
       "    </tr>\n",
       "    <tr>\n",
       "      <th>12</th>\n",
       "      <td>69.823989</td>\n",
       "      <td>78.352453</td>\n",
       "    </tr>\n",
       "    <tr>\n",
       "      <th>13</th>\n",
       "      <td>66.591677</td>\n",
       "      <td>75.980987</td>\n",
       "    </tr>\n",
       "    <tr>\n",
       "      <th>14</th>\n",
       "      <td>44.211713</td>\n",
       "      <td>59.884890</td>\n",
       "    </tr>\n",
       "    <tr>\n",
       "      <th>15</th>\n",
       "      <td>62.465371</td>\n",
       "      <td>44.183945</td>\n",
       "    </tr>\n",
       "    <tr>\n",
       "      <th>16</th>\n",
       "      <td>78.378308</td>\n",
       "      <td>64.519288</td>\n",
       "    </tr>\n",
       "    <tr>\n",
       "      <th>17</th>\n",
       "      <td>78.414267</td>\n",
       "      <td>65.918397</td>\n",
       "    </tr>\n",
       "    <tr>\n",
       "      <th>18</th>\n",
       "      <td>86.378593</td>\n",
       "      <td>67.414038</td>\n",
       "    </tr>\n",
       "    <tr>\n",
       "      <th>19</th>\n",
       "      <td>43.296372</td>\n",
       "      <td>54.641686</td>\n",
       "    </tr>\n",
       "    <tr>\n",
       "      <th>20</th>\n",
       "      <td>65.502895</td>\n",
       "      <td>82.134037</td>\n",
       "    </tr>\n",
       "    <tr>\n",
       "      <th>21</th>\n",
       "      <td>42.878151</td>\n",
       "      <td>87.946372</td>\n",
       "    </tr>\n",
       "    <tr>\n",
       "      <th>22</th>\n",
       "      <td>63.941324</td>\n",
       "      <td>70.471934</td>\n",
       "    </tr>\n",
       "    <tr>\n",
       "      <th>23</th>\n",
       "      <td>76.607336</td>\n",
       "      <td>56.078052</td>\n",
       "    </tr>\n",
       "    <tr>\n",
       "      <th>24</th>\n",
       "      <td>75.286656</td>\n",
       "      <td>82.483165</td>\n",
       "    </tr>\n",
       "    <tr>\n",
       "      <th>25</th>\n",
       "      <td>70.862058</td>\n",
       "      <td>74.790871</td>\n",
       "    </tr>\n",
       "    <tr>\n",
       "      <th>26</th>\n",
       "      <td>73.092260</td>\n",
       "      <td>73.832936</td>\n",
       "    </tr>\n",
       "    <tr>\n",
       "      <th>27</th>\n",
       "      <td>59.556098</td>\n",
       "      <td>74.299365</td>\n",
       "    </tr>\n",
       "    <tr>\n",
       "      <th>28</th>\n",
       "      <td>72.846900</td>\n",
       "      <td>91.776222</td>\n",
       "    </tr>\n",
       "    <tr>\n",
       "      <th>29</th>\n",
       "      <td>68.521337</td>\n",
       "      <td>84.210811</td>\n",
       "    </tr>\n",
       "    <tr>\n",
       "      <th>...</th>\n",
       "      <td>...</td>\n",
       "      <td>...</td>\n",
       "    </tr>\n",
       "    <tr>\n",
       "      <th>270</th>\n",
       "      <td>56.778548</td>\n",
       "      <td>64.341896</td>\n",
       "    </tr>\n",
       "    <tr>\n",
       "      <th>271</th>\n",
       "      <td>84.830581</td>\n",
       "      <td>73.226373</td>\n",
       "    </tr>\n",
       "    <tr>\n",
       "      <th>272</th>\n",
       "      <td>63.636159</td>\n",
       "      <td>61.904809</td>\n",
       "    </tr>\n",
       "    <tr>\n",
       "      <th>273</th>\n",
       "      <td>51.150474</td>\n",
       "      <td>70.657916</td>\n",
       "    </tr>\n",
       "    <tr>\n",
       "      <th>274</th>\n",
       "      <td>73.502125</td>\n",
       "      <td>97.891838</td>\n",
       "    </tr>\n",
       "    <tr>\n",
       "      <th>275</th>\n",
       "      <td>50.658461</td>\n",
       "      <td>62.254113</td>\n",
       "    </tr>\n",
       "    <tr>\n",
       "      <th>276</th>\n",
       "      <td>71.189718</td>\n",
       "      <td>46.005702</td>\n",
       "    </tr>\n",
       "    <tr>\n",
       "      <th>277</th>\n",
       "      <td>97.300597</td>\n",
       "      <td>63.352184</td>\n",
       "    </tr>\n",
       "    <tr>\n",
       "      <th>278</th>\n",
       "      <td>64.547031</td>\n",
       "      <td>51.326530</td>\n",
       "    </tr>\n",
       "    <tr>\n",
       "      <th>279</th>\n",
       "      <td>72.009295</td>\n",
       "      <td>69.585100</td>\n",
       "    </tr>\n",
       "    <tr>\n",
       "      <th>280</th>\n",
       "      <td>64.249902</td>\n",
       "      <td>75.468712</td>\n",
       "    </tr>\n",
       "    <tr>\n",
       "      <th>281</th>\n",
       "      <td>88.755368</td>\n",
       "      <td>66.478938</td>\n",
       "    </tr>\n",
       "    <tr>\n",
       "      <th>282</th>\n",
       "      <td>67.692670</td>\n",
       "      <td>71.825020</td>\n",
       "    </tr>\n",
       "    <tr>\n",
       "      <th>283</th>\n",
       "      <td>59.752093</td>\n",
       "      <td>56.312476</td>\n",
       "    </tr>\n",
       "    <tr>\n",
       "      <th>284</th>\n",
       "      <td>79.398349</td>\n",
       "      <td>63.795601</td>\n",
       "    </tr>\n",
       "    <tr>\n",
       "      <th>285</th>\n",
       "      <td>89.729164</td>\n",
       "      <td>66.784463</td>\n",
       "    </tr>\n",
       "    <tr>\n",
       "      <th>286</th>\n",
       "      <td>46.219689</td>\n",
       "      <td>69.771082</td>\n",
       "    </tr>\n",
       "    <tr>\n",
       "      <th>287</th>\n",
       "      <td>84.926191</td>\n",
       "      <td>64.098882</td>\n",
       "    </tr>\n",
       "    <tr>\n",
       "      <th>288</th>\n",
       "      <td>50.008760</td>\n",
       "      <td>73.249384</td>\n",
       "    </tr>\n",
       "    <tr>\n",
       "      <th>289</th>\n",
       "      <td>31.546282</td>\n",
       "      <td>80.042841</td>\n",
       "    </tr>\n",
       "    <tr>\n",
       "      <th>290</th>\n",
       "      <td>68.717179</td>\n",
       "      <td>58.915946</td>\n",
       "    </tr>\n",
       "    <tr>\n",
       "      <th>291</th>\n",
       "      <td>65.867711</td>\n",
       "      <td>87.994638</td>\n",
       "    </tr>\n",
       "    <tr>\n",
       "      <th>292</th>\n",
       "      <td>81.793056</td>\n",
       "      <td>82.331028</td>\n",
       "    </tr>\n",
       "    <tr>\n",
       "      <th>293</th>\n",
       "      <td>57.170481</td>\n",
       "      <td>55.285507</td>\n",
       "    </tr>\n",
       "    <tr>\n",
       "      <th>294</th>\n",
       "      <td>65.243976</td>\n",
       "      <td>70.377645</td>\n",
       "    </tr>\n",
       "    <tr>\n",
       "      <th>295</th>\n",
       "      <td>69.091085</td>\n",
       "      <td>66.083787</td>\n",
       "    </tr>\n",
       "    <tr>\n",
       "      <th>296</th>\n",
       "      <td>83.114791</td>\n",
       "      <td>55.588788</td>\n",
       "    </tr>\n",
       "    <tr>\n",
       "      <th>297</th>\n",
       "      <td>68.817411</td>\n",
       "      <td>67.365772</td>\n",
       "    </tr>\n",
       "    <tr>\n",
       "      <th>298</th>\n",
       "      <td>73.989669</td>\n",
       "      <td>68.509865</td>\n",
       "    </tr>\n",
       "    <tr>\n",
       "      <th>299</th>\n",
       "      <td>77.841247</td>\n",
       "      <td>64.868416</td>\n",
       "    </tr>\n",
       "  </tbody>\n",
       "</table>\n",
       "<p>300 rows × 2 columns</p>\n",
       "</div>"
      ],
      "text/plain": [
       "     With test preparation course  Without test preparation course\n",
       "0                       76.507104                        58.309383\n",
       "1                       81.488947                        57.688573\n",
       "2                       57.607215                        62.007687\n",
       "3                       86.601553                        38.267660\n",
       "4                       53.232134                        47.802382\n",
       "5                       75.359866                        74.885160\n",
       "6                       64.201439                        89.393747\n",
       "7                       91.263713                        67.531162\n",
       "8                       70.397010                        85.051798\n",
       "9                       59.168786                        62.208090\n",
       "10                      77.323267                        84.654228\n",
       "11                      75.814627                        74.487766\n",
       "12                      69.823989                        78.352453\n",
       "13                      66.591677                        75.980987\n",
       "14                      44.211713                        59.884890\n",
       "15                      62.465371                        44.183945\n",
       "16                      78.378308                        64.519288\n",
       "17                      78.414267                        65.918397\n",
       "18                      86.378593                        67.414038\n",
       "19                      43.296372                        54.641686\n",
       "20                      65.502895                        82.134037\n",
       "21                      42.878151                        87.946372\n",
       "22                      63.941324                        70.471934\n",
       "23                      76.607336                        56.078052\n",
       "24                      75.286656                        82.483165\n",
       "25                      70.862058                        74.790871\n",
       "26                      73.092260                        73.832936\n",
       "27                      59.556098                        74.299365\n",
       "28                      72.846900                        91.776222\n",
       "29                      68.521337                        84.210811\n",
       "..                            ...                              ...\n",
       "270                     56.778548                        64.341896\n",
       "271                     84.830581                        73.226373\n",
       "272                     63.636159                        61.904809\n",
       "273                     51.150474                        70.657916\n",
       "274                     73.502125                        97.891838\n",
       "275                     50.658461                        62.254113\n",
       "276                     71.189718                        46.005702\n",
       "277                     97.300597                        63.352184\n",
       "278                     64.547031                        51.326530\n",
       "279                     72.009295                        69.585100\n",
       "280                     64.249902                        75.468712\n",
       "281                     88.755368                        66.478938\n",
       "282                     67.692670                        71.825020\n",
       "283                     59.752093                        56.312476\n",
       "284                     79.398349                        63.795601\n",
       "285                     89.729164                        66.784463\n",
       "286                     46.219689                        69.771082\n",
       "287                     84.926191                        64.098882\n",
       "288                     50.008760                        73.249384\n",
       "289                     31.546282                        80.042841\n",
       "290                     68.717179                        58.915946\n",
       "291                     65.867711                        87.994638\n",
       "292                     81.793056                        82.331028\n",
       "293                     57.170481                        55.285507\n",
       "294                     65.243976                        70.377645\n",
       "295                     69.091085                        66.083787\n",
       "296                     83.114791                        55.588788\n",
       "297                     68.817411                        67.365772\n",
       "298                     73.989669                        68.509865\n",
       "299                     77.841247                        64.868416\n",
       "\n",
       "[300 rows x 2 columns]"
      ]
     },
     "execution_count": 42,
     "metadata": {},
     "output_type": "execute_result"
    }
   ],
   "source": [
    "compare_predictions = pd.DataFrame({'With test preparation course':reading_prediction,'Without test preparation course':prediction1})\n",
    "compare_predictions"
   ]
  },
  {
   "cell_type": "markdown",
   "metadata": {},
   "source": [
    "# Using Decision Tree"
   ]
  },
  {
   "cell_type": "code",
   "execution_count": 43,
   "metadata": {},
   "outputs": [],
   "source": [
    "from sklearn.tree import DecisionTreeClassifier\n",
    "from sklearn import metrics"
   ]
  },
  {
   "cell_type": "code",
   "execution_count": 44,
   "metadata": {},
   "outputs": [],
   "source": [
    "# training value\n",
    "X = df[['test_preparation_course_map','gender_map','writing score','math score','grades_map','Result_map']]\n",
    "# target values \n",
    "y = df['reading score']"
   ]
  },
  {
   "cell_type": "code",
   "execution_count": 45,
   "metadata": {},
   "outputs": [],
   "source": [
    "# Split dataset into training set and test set\n",
    "X_train, X_test, y_train, y_test = train_test_split(X, y, test_size=0.2, random_state=100)"
   ]
  },
  {
   "cell_type": "code",
   "execution_count": 46,
   "metadata": {},
   "outputs": [],
   "source": [
    "# Create Decision Tree classifer object\n",
    "clf = DecisionTreeClassifier()\n",
    "\n",
    "# Train Decision Tree Classifer\n",
    "clf = clf.fit(X_train,y_train)\n",
    "\n",
    "#Predict the response for test dataset\n",
    "y_pred = clf.predict(X_test)"
   ]
  },
  {
   "cell_type": "code",
   "execution_count": 47,
   "metadata": {},
   "outputs": [
    {
     "name": "stdout",
     "output_type": "stream",
     "text": [
      "Accuracy: 0.1\n"
     ]
    }
   ],
   "source": [
    "# Model Accuracy, how often is the classifier correct?\n",
    "print(\"Accuracy:\",metrics.accuracy_score(y_test, y_pred))"
   ]
  },
  {
   "cell_type": "markdown",
   "metadata": {},
   "source": [
    "# Predicition of Writing Score"
   ]
  },
  {
   "cell_type": "code",
   "execution_count": 48,
   "metadata": {},
   "outputs": [],
   "source": [
    "# tarining value\n",
    "x = df[['test_preparation_course_map','gender_map','reading score','math score','grades_map','Result_map']]\n",
    "# target values \n",
    "y = df['writing score']"
   ]
  },
  {
   "cell_type": "code",
   "execution_count": 49,
   "metadata": {},
   "outputs": [],
   "source": [
    "x_train,x_test,y_train,y_test=train_test_split(x,y,test_size=0.2,random_state=300)"
   ]
  },
  {
   "cell_type": "markdown",
   "metadata": {},
   "source": [
    "Fitting x_train and y_train in Linear Model"
   ]
  },
  {
   "cell_type": "code",
   "execution_count": 50,
   "metadata": {},
   "outputs": [
    {
     "data": {
      "text/plain": [
       "LinearRegression(copy_X=True, fit_intercept=True, n_jobs=None,\n",
       "         normalize=False)"
      ]
     },
     "execution_count": 50,
     "metadata": {},
     "output_type": "execute_result"
    }
   ],
   "source": [
    "model.fit(x_train,y_train)"
   ]
  },
  {
   "cell_type": "code",
   "execution_count": 51,
   "metadata": {},
   "outputs": [
    {
     "data": {
      "text/plain": [
       "0.9347622931696717"
      ]
     },
     "execution_count": 51,
     "metadata": {},
     "output_type": "execute_result"
    }
   ],
   "source": [
    "model.score(x_test,y_test)"
   ]
  },
  {
   "cell_type": "code",
   "execution_count": 52,
   "metadata": {},
   "outputs": [
    {
     "data": {
      "text/plain": [
       "array([90.53516523, 90.24962598, 69.8229548 , 82.45422795, 54.34584527,\n",
       "       53.93470778, 40.96427685, 48.79206419, 55.98266768, 69.92745164,\n",
       "       75.34448198, 64.24034475, 78.45222761, 79.96376368, 63.61203871,\n",
       "       80.95117864, 54.73676839, 58.53377509, 64.42658613, 54.39876085,\n",
       "       85.47769112, 81.4465986 , 48.82387837, 38.33664129, 69.05270837,\n",
       "       42.19340412, 56.7645139 , 60.27078239, 68.08550779, 82.49465671,\n",
       "       85.21920679, 74.51447943, 69.81522723, 84.67563051, 87.24695231,\n",
       "       54.98276589, 64.59945368, 75.87260313, 80.10868928, 81.91837923,\n",
       "       86.23932296, 69.83544161, 98.12530642, 82.94622296, 41.24252826,\n",
       "       64.81750924, 83.70754291, 83.70754291, 69.12583833, 68.32377773,\n",
       "       92.47045343, 60.36336753, 79.79013693, 43.92709688, 35.69218953,\n",
       "       66.63492676, 68.41667477, 57.79235763, 63.7771787 , 59.9929707 ,\n",
       "       56.55863326, 43.66905986, 72.49922073, 48.99794483, 93.35337156,\n",
       "       61.03241423, 60.34315315, 69.37138854, 62.7089062 , 59.02577011,\n",
       "       76.47682255, 77.33179874, 72.55986387, 93.08715967, 56.4535613 ,\n",
       "       51.93966346, 90.45519473, 65.04329237, 82.67969918, 95.92380633,\n",
       "       32.15366715, 79.5324118 , 41.78712696, 71.8498133 , 48.21896584,\n",
       "       89.95116019, 55.63128631, 77.44491016, 82.49434481, 80.38694068,\n",
       "       39.15891627, 69.8345546 , 62.99533247, 43.4263693 , 60.73407626,\n",
       "       84.94095539, 56.20845081, 59.17038382, 58.40817685, 51.60076891,\n",
       "       81.48671546, 73.82553025, 54.92212275, 75.29632565, 33.69714521,\n",
       "       91.87396157, 89.13661277, 67.96510851, 78.84346262, 34.77790452,\n",
       "       76.32416939, 70.39150471, 75.13891324, 42.415433  , 77.07420143,\n",
       "       67.78748172, 75.07827009, 59.4369076 , 71.59221599, 88.38702045,\n",
       "       84.1186804 , 69.21873537, 64.4459135 , 70.67704396, 65.18821797,\n",
       "       49.51326727, 64.37367055, 85.54993406, 60.35163991, 41.15020634,\n",
       "       41.31534633, 55.28079196, 81.00333503, 93.55032572, 41.97248133,\n",
       "       64.59172611, 70.39150471, 33.75006079, 57.79982197, 70.59707345,\n",
       "       53.74935342, 74.96559839, 82.49434481, 62.32646985, 84.40941862,\n",
       "       88.9839596 , 85.66304548, 68.73446792, 62.15284311, 53.13264718,\n",
       "       62.33819747, 70.2465791 , 99.78145619, 55.31304586, 50.21114293,\n",
       "       71.8498133 , 57.17565139, 61.61730629, 55.33326024, 62.08047234,\n",
       "       58.82020136, 66.05092172, 46.9335248 , 62.59668179, 52.78215283,\n",
       "       73.80531587, 73.73263321, 49.75957667, 88.7379621 , 56.34088959,\n",
       "       74.44223649, 57.15543701, 66.82028113, 59.78709006, 66.7394236 ,\n",
       "       99.59610182, 86.50553485, 45.99527116, 57.5665745 , 54.16049091,\n",
       "       70.59707345, 79.28641429, 85.77571719, 87.43230668, 79.4197401 ,\n",
       "       57.00962439, 74.25599511, 81.50692984, 65.7924374 , 75.28383884,\n",
       "       64.01487352, 50.93203411, 52.76193845, 90.47540911, 91.68772019,\n",
       "       87.96384344, 95.36001567, 39.93700824, 73.06389841, 54.77719715])"
      ]
     },
     "execution_count": 52,
     "metadata": {},
     "output_type": "execute_result"
    }
   ],
   "source": [
    "writing_prediction=model.predict(x_test)\n",
    "writing_prediction"
   ]
  },
  {
   "cell_type": "code",
   "execution_count": 53,
   "metadata": {},
   "outputs": [
    {
     "data": {
      "image/png": "[encoded data removed]",
      "text/plain": [
       "<Figure size 432x288 with 1 Axes>"
      ]
     },
     "metadata": {
      "needs_background": "light"
     },
     "output_type": "display_data"
    }
   ],
   "source": [
    "plt.scatter(y_test, writing_prediction)\n",
    "plt.xlabel(\"True Values\")\n",
    "plt.ylabel(\"Predictions\")\n",
    "plt.show()"
   ]
  },
  {
   "cell_type": "markdown",
   "metadata": {},
   "source": [
    "Fitting X and y in RandomForestClassifier"
   ]
  },
  {
   "cell_type": "code",
   "execution_count": 54,
   "metadata": {},
   "outputs": [
    {
     "data": {
      "text/plain": [
       "RandomForestClassifier(bootstrap=True, class_weight=None, criterion='gini',\n",
       "            max_depth=2, max_features='auto', max_leaf_nodes=None,\n",
       "            min_impurity_decrease=0.0, min_impurity_split=None,\n",
       "            min_samples_leaf=1, min_samples_split=2,\n",
       "            min_weight_fraction_leaf=0.0, n_estimators=100, n_jobs=None,\n",
       "            oob_score=False, random_state=0, verbose=0, warm_start=False)"
      ]
     },
     "execution_count": 54,
     "metadata": {},
     "output_type": "execute_result"
    }
   ],
   "source": [
    "clf = RandomForestClassifier(n_estimators=100, max_depth=2,random_state=0);\n",
    "clf.fit(x, y)"
   ]
  },
  {
   "cell_type": "markdown",
   "metadata": {},
   "source": [
    "# Checking the important features"
   ]
  },
  {
   "cell_type": "code",
   "execution_count": 55,
   "metadata": {},
   "outputs": [
    {
     "data": {
      "text/html": [
       "<div>\n",
       "<style scoped>\n",
       "    .dataframe tbody tr th:only-of-type {\n",
       "        vertical-align: middle;\n",
       "    }\n",
       "\n",
       "    .dataframe tbody tr th {\n",
       "        vertical-align: top;\n",
       "    }\n",
       "\n",
       "    .dataframe thead th {\n",
       "        text-align: right;\n",
       "    }\n",
       "</style>\n",
       "<table border=\"1\" class=\"dataframe\">\n",
       "  <thead>\n",
       "    <tr style=\"text-align: right;\">\n",
       "      <th></th>\n",
       "      <th>feature</th>\n",
       "      <th>importance</th>\n",
       "    </tr>\n",
       "  </thead>\n",
       "  <tbody>\n",
       "    <tr>\n",
       "      <th>0</th>\n",
       "      <td>test_preparation_course_map</td>\n",
       "      <td>0.027407</td>\n",
       "    </tr>\n",
       "    <tr>\n",
       "      <th>1</th>\n",
       "      <td>gender_map</td>\n",
       "      <td>0.030423</td>\n",
       "    </tr>\n",
       "    <tr>\n",
       "      <th>2</th>\n",
       "      <td>reading score</td>\n",
       "      <td>0.354323</td>\n",
       "    </tr>\n",
       "    <tr>\n",
       "      <th>3</th>\n",
       "      <td>math score</td>\n",
       "      <td>0.186740</td>\n",
       "    </tr>\n",
       "    <tr>\n",
       "      <th>4</th>\n",
       "      <td>grades_map</td>\n",
       "      <td>0.351359</td>\n",
       "    </tr>\n",
       "    <tr>\n",
       "      <th>5</th>\n",
       "      <td>Result_map</td>\n",
       "      <td>0.049748</td>\n",
       "    </tr>\n",
       "  </tbody>\n",
       "</table>\n",
       "</div>"
      ],
      "text/plain": [
       "                       feature  importance\n",
       "0  test_preparation_course_map    0.027407\n",
       "1                   gender_map    0.030423\n",
       "2                reading score    0.354323\n",
       "3                   math score    0.186740\n",
       "4                   grades_map    0.351359\n",
       "5                   Result_map    0.049748"
      ]
     },
     "execution_count": 55,
     "metadata": {},
     "output_type": "execute_result"
    }
   ],
   "source": [
    "feature=['test_preparation_course_map','gender_map','reading score','math score','grades_map','Result_map']\n",
    "feature_imp=pd.DataFrame({'feature':feature,'importance':clf.feature_importances_})\n",
    "feature_imp"
   ]
  },
  {
   "cell_type": "code",
   "execution_count": 56,
   "metadata": {},
   "outputs": [
    {
     "data": {
      "text/plain": [
       "<matplotlib.axes._subplots.AxesSubplot at 0x7fde79371d30>"
      ]
     },
     "execution_count": 56,
     "metadata": {},
     "output_type": "execute_result"
    },
    {
     "data": {
      "image/png": "[encoded data removed]",
      "text/plain": [
       "<Figure size 432x288 with 1 Axes>"
      ]
     },
     "metadata": {
      "needs_background": "light"
     },
     "output_type": "display_data"
    }
   ],
   "source": [
    "feature_imp.plot.bar()"
   ]
  },
  {
   "cell_type": "markdown",
   "metadata": {},
   "source": [
    "# Removing the least important features"
   ]
  },
  {
   "cell_type": "code",
   "execution_count": 57,
   "metadata": {},
   "outputs": [
    {
     "data": {
      "text/plain": [
       "RandomForestClassifier(bootstrap=True, class_weight=None, criterion='gini',\n",
       "            max_depth=2, max_features='auto', max_leaf_nodes=None,\n",
       "            min_impurity_decrease=0.0, min_impurity_split=None,\n",
       "            min_samples_leaf=1, min_samples_split=2,\n",
       "            min_weight_fraction_leaf=0.0, n_estimators=100, n_jobs=None,\n",
       "            oob_score=False, random_state=0, verbose=0, warm_start=False)"
      ]
     },
     "execution_count": 57,
     "metadata": {},
     "output_type": "execute_result"
    }
   ],
   "source": [
    "x1=df[['reading score','math score','grades_map','Result_map']]\n",
    "clf.fit(x1,y)"
   ]
  },
  {
   "cell_type": "code",
   "execution_count": 58,
   "metadata": {},
   "outputs": [
    {
     "data": {
      "text/html": [
       "<div>\n",
       "<style scoped>\n",
       "    .dataframe tbody tr th:only-of-type {\n",
       "        vertical-align: middle;\n",
       "    }\n",
       "\n",
       "    .dataframe tbody tr th {\n",
       "        vertical-align: top;\n",
       "    }\n",
       "\n",
       "    .dataframe thead th {\n",
       "        text-align: right;\n",
       "    }\n",
       "</style>\n",
       "<table border=\"1\" class=\"dataframe\">\n",
       "  <thead>\n",
       "    <tr style=\"text-align: right;\">\n",
       "      <th></th>\n",
       "      <th>feature</th>\n",
       "      <th>importance</th>\n",
       "    </tr>\n",
       "  </thead>\n",
       "  <tbody>\n",
       "    <tr>\n",
       "      <th>0</th>\n",
       "      <td>reading score</td>\n",
       "      <td>0.504290</td>\n",
       "    </tr>\n",
       "    <tr>\n",
       "      <th>1</th>\n",
       "      <td>math score</td>\n",
       "      <td>0.119842</td>\n",
       "    </tr>\n",
       "    <tr>\n",
       "      <th>2</th>\n",
       "      <td>grades_map</td>\n",
       "      <td>0.363552</td>\n",
       "    </tr>\n",
       "    <tr>\n",
       "      <th>3</th>\n",
       "      <td>Result_map</td>\n",
       "      <td>0.012316</td>\n",
       "    </tr>\n",
       "  </tbody>\n",
       "</table>\n",
       "</div>"
      ],
      "text/plain": [
       "         feature  importance\n",
       "0  reading score    0.504290\n",
       "1     math score    0.119842\n",
       "2     grades_map    0.363552\n",
       "3     Result_map    0.012316"
      ]
     },
     "execution_count": 58,
     "metadata": {},
     "output_type": "execute_result"
    }
   ],
   "source": [
    "feature1=['reading score','math score','grades_map','Result_map']\n",
    "feature_imp1=pd.DataFrame({'feature':feature1,'importance':clf.feature_importances_})\n",
    "feature_imp1"
   ]
  },
  {
   "cell_type": "code",
   "execution_count": 59,
   "metadata": {},
   "outputs": [
    {
     "data": {
      "text/plain": [
       "<matplotlib.axes._subplots.AxesSubplot at 0x7fde79051b00>"
      ]
     },
     "execution_count": 59,
     "metadata": {},
     "output_type": "execute_result"
    },
    {
     "data": {
      "image/png": "[encoded data removed]",
      "text/plain": [
       "<Figure size 432x288 with 1 Axes>"
      ]
     },
     "metadata": {
      "needs_background": "light"
     },
     "output_type": "display_data"
    }
   ],
   "source": [
    "feature_imp1.plot.bar()"
   ]
  },
  {
   "cell_type": "markdown",
   "metadata": {},
   "source": [
    "Since Result_map has no importance, we can remove it ."
   ]
  },
  {
   "cell_type": "code",
   "execution_count": 60,
   "metadata": {},
   "outputs": [
    {
     "data": {
      "text/plain": [
       "RandomForestClassifier(bootstrap=True, class_weight=None, criterion='gini',\n",
       "            max_depth=2, max_features='auto', max_leaf_nodes=None,\n",
       "            min_impurity_decrease=0.0, min_impurity_split=None,\n",
       "            min_samples_leaf=1, min_samples_split=2,\n",
       "            min_weight_fraction_leaf=0.0, n_estimators=100, n_jobs=None,\n",
       "            oob_score=False, random_state=0, verbose=0, warm_start=False)"
      ]
     },
     "execution_count": 60,
     "metadata": {},
     "output_type": "execute_result"
    }
   ],
   "source": [
    "x2=df[['reading score','math score','grades_map']]\n",
    "clf.fit(x2,y)"
   ]
  },
  {
   "cell_type": "code",
   "execution_count": 61,
   "metadata": {},
   "outputs": [
    {
     "data": {
      "text/html": [
       "<div>\n",
       "<style scoped>\n",
       "    .dataframe tbody tr th:only-of-type {\n",
       "        vertical-align: middle;\n",
       "    }\n",
       "\n",
       "    .dataframe tbody tr th {\n",
       "        vertical-align: top;\n",
       "    }\n",
       "\n",
       "    .dataframe thead th {\n",
       "        text-align: right;\n",
       "    }\n",
       "</style>\n",
       "<table border=\"1\" class=\"dataframe\">\n",
       "  <thead>\n",
       "    <tr style=\"text-align: right;\">\n",
       "      <th></th>\n",
       "      <th>feature</th>\n",
       "      <th>importance</th>\n",
       "    </tr>\n",
       "  </thead>\n",
       "  <tbody>\n",
       "    <tr>\n",
       "      <th>0</th>\n",
       "      <td>reading score</td>\n",
       "      <td>0.363656</td>\n",
       "    </tr>\n",
       "    <tr>\n",
       "      <th>1</th>\n",
       "      <td>math score</td>\n",
       "      <td>0.299297</td>\n",
       "    </tr>\n",
       "    <tr>\n",
       "      <th>2</th>\n",
       "      <td>grades_map</td>\n",
       "      <td>0.337047</td>\n",
       "    </tr>\n",
       "  </tbody>\n",
       "</table>\n",
       "</div>"
      ],
      "text/plain": [
       "         feature  importance\n",
       "0  reading score    0.363656\n",
       "1     math score    0.299297\n",
       "2     grades_map    0.337047"
      ]
     },
     "execution_count": 61,
     "metadata": {},
     "output_type": "execute_result"
    }
   ],
   "source": [
    "feature2=['reading score','math score','grades_map']\n",
    "feature_imp2=pd.DataFrame({'feature':feature2,'importance':clf.feature_importances_})\n",
    "feature_imp2"
   ]
  },
  {
   "cell_type": "markdown",
   "metadata": {},
   "source": [
    "Prediciting reading score without test preparation course,gender and result"
   ]
  },
  {
   "cell_type": "code",
   "execution_count": 62,
   "metadata": {},
   "outputs": [],
   "source": [
    "x1_train,x1_test,y1_train,y1_test=train_test_split(x2,y,test_size=0.2,random_state=123)"
   ]
  },
  {
   "cell_type": "markdown",
   "metadata": {},
   "source": [
    "Fitting x1_train and y1_train in linear model"
   ]
  },
  {
   "cell_type": "code",
   "execution_count": 63,
   "metadata": {},
   "outputs": [
    {
     "data": {
      "text/plain": [
       "LinearRegression(copy_X=True, fit_intercept=True, n_jobs=None,\n",
       "         normalize=False)"
      ]
     },
     "execution_count": 63,
     "metadata": {},
     "output_type": "execute_result"
    }
   ],
   "source": [
    "model.fit(x1_train,y1_train)"
   ]
  },
  {
   "cell_type": "code",
   "execution_count": 64,
   "metadata": {},
   "outputs": [
    {
     "data": {
      "text/plain": [
       "0.9217834114929827"
      ]
     },
     "execution_count": 64,
     "metadata": {},
     "output_type": "execute_result"
    }
   ],
   "source": [
    "model.score(x1_test,y1_test)"
   ]
  },
  {
   "cell_type": "code",
   "execution_count": 65,
   "metadata": {},
   "outputs": [
    {
     "data": {
      "text/plain": [
       "array([33.93430985, 68.84381277, 54.48808873, 74.52261311, 66.33863714,\n",
       "       72.85688047, 73.47271601, 53.64864572, 69.44649492, 70.24647779,\n",
       "       54.38286168, 84.51012817, 62.22034239, 80.2277202 , 72.85688047,\n",
       "       22.69508962, 57.03272451, 76.97517522, 84.49697478, 71.9253638 ,\n",
       "       72.75165343, 86.12324727, 92.75987104, 27.54760032, 96.83870565,\n",
       "       86.28108785, 79.48662351, 77.72254456, 72.05689761, 39.06304156,\n",
       "       88.81257025, 65.51234751, 96.83870565, 70.98069375, 60.40364992,\n",
       "       72.12266452, 57.05903127, 35.99464391, 59.32744606, 56.07490108,\n",
       "       71.91221042, 69.42018816, 87.14683761, 74.41738606, 75.19106216,\n",
       "       74.41738606, 35.14204753, 76.06996531, 70.41747174, 76.20149912,\n",
       "       87.14683761, 75.13844864, 76.90940832, 59.56420691, 76.28041941,\n",
       "       68.81750601, 52.87496962, 74.61468677, 53.66179911, 66.94131929,\n",
       "       84.57589507, 58.64584362, 85.44164484, 58.51430981, 47.55581794,\n",
       "       83.68383854, 81.15235614, 75.34890273, 69.6043355 , 86.89692338,\n",
       "       77.73569794, 52.06183338, 59.39321296, 67.80706905, 67.12546662,\n",
       "       78.56198757, 71.04646065, 86.01802023, 49.27416409, 51.45738594,\n",
       "       66.12818304, 73.72263024, 73.36748896, 81.21812304, 81.28388995,\n",
       "       96.74663198, 66.9281659 , 51.1303167 , 82.8707023 , 80.2277202 ,\n",
       "       49.32677762, 52.28367557, 70.4437785 , 72.1358179 , 76.88310156,\n",
       "       81.23127642, 77.73569794, 63.80715474, 78.52252743, 69.72271592,\n",
       "       64.40983689, 73.63055658, 85.41533808, 72.6990399 , 72.85688047,\n",
       "       41.82440408, 74.20693196, 63.84661488, 67.75445553, 72.9752609 ,\n",
       "       82.73289584, 40.75508095, 82.1627931 , 66.20710333, 67.04654633,\n",
       "       72.79111357, 93.54670052, 47.39170472, 45.30682918, 82.13648634,\n",
       "       90.32046231, 75.2305223 , 81.28388995, 51.23554375, 96.7334786 ,\n",
       "       89.49417268, 66.32548376, 42.55862004, 81.10662335, 76.03050517,\n",
       "       51.94345295, 56.80911704, 69.63064226, 62.80987116, 84.56274169,\n",
       "       79.48035086, 69.64379564, 73.49902277, 83.65753178, 50.3566406 ,\n",
       "       41.54191044, 67.78076229, 76.81733465, 54.50124211, 90.37307583,\n",
       "       57.80640061, 82.18909986, 37.50253597, 67.89914272, 69.49910845,\n",
       "       65.57811442, 49.23470395, 71.00700051, 56.96695761, 41.82440408,\n",
       "       61.24936557, 70.54900555, 83.89429263, 79.30935691, 72.85688047,\n",
       "       40.00083088, 56.31793458, 74.32531239, 77.01463536, 65.45973399,\n",
       "       72.80426695, 71.75436985, 78.53568081, 52.888123  , 67.87283596,\n",
       "       40.70246743, 84.47066802, 64.6729045 , 66.16764318, 54.46178197,\n",
       "       39.08934832, 83.68383854, 66.90185914, 88.56265601, 71.12538094,\n",
       "       87.92051372, 87.84159343, 75.29628921, 71.16484108, 94.49137058,\n",
       "       79.41458396, 58.86257036, 67.08600648, 67.96490963, 45.14271596,\n",
       "       64.64659774, 72.92264738, 58.55376995, 71.17799446, 71.8595969 ,\n",
       "       67.95175624, 75.26998245, 66.20710333, 76.80418127, 96.90447255])"
      ]
     },
     "execution_count": 65,
     "metadata": {},
     "output_type": "execute_result"
    }
   ],
   "source": [
    "prediction1=model.predict(x1_test)\n",
    "prediction1"
   ]
  },
  {
   "cell_type": "markdown",
   "metadata": {},
   "source": [
    "Comparing Predicitons"
   ]
  },
  {
   "cell_type": "code",
   "execution_count": 66,
   "metadata": {},
   "outputs": [
    {
     "data": {
      "text/html": [
       "<div>\n",
       "<style scoped>\n",
       "    .dataframe tbody tr th:only-of-type {\n",
       "        vertical-align: middle;\n",
       "    }\n",
       "\n",
       "    .dataframe tbody tr th {\n",
       "        vertical-align: top;\n",
       "    }\n",
       "\n",
       "    .dataframe thead th {\n",
       "        text-align: right;\n",
       "    }\n",
       "</style>\n",
       "<table border=\"1\" class=\"dataframe\">\n",
       "  <thead>\n",
       "    <tr style=\"text-align: right;\">\n",
       "      <th></th>\n",
       "      <th>With test preparation course,gender,result</th>\n",
       "      <th>Without test preparation course,gender,result</th>\n",
       "    </tr>\n",
       "  </thead>\n",
       "  <tbody>\n",
       "    <tr>\n",
       "      <th>0</th>\n",
       "      <td>90.535165</td>\n",
       "      <td>33.934310</td>\n",
       "    </tr>\n",
       "    <tr>\n",
       "      <th>1</th>\n",
       "      <td>90.249626</td>\n",
       "      <td>68.843813</td>\n",
       "    </tr>\n",
       "    <tr>\n",
       "      <th>2</th>\n",
       "      <td>69.822955</td>\n",
       "      <td>54.488089</td>\n",
       "    </tr>\n",
       "    <tr>\n",
       "      <th>3</th>\n",
       "      <td>82.454228</td>\n",
       "      <td>74.522613</td>\n",
       "    </tr>\n",
       "    <tr>\n",
       "      <th>4</th>\n",
       "      <td>54.345845</td>\n",
       "      <td>66.338637</td>\n",
       "    </tr>\n",
       "    <tr>\n",
       "      <th>5</th>\n",
       "      <td>53.934708</td>\n",
       "      <td>72.856880</td>\n",
       "    </tr>\n",
       "    <tr>\n",
       "      <th>6</th>\n",
       "      <td>40.964277</td>\n",
       "      <td>73.472716</td>\n",
       "    </tr>\n",
       "    <tr>\n",
       "      <th>7</th>\n",
       "      <td>48.792064</td>\n",
       "      <td>53.648646</td>\n",
       "    </tr>\n",
       "    <tr>\n",
       "      <th>8</th>\n",
       "      <td>55.982668</td>\n",
       "      <td>69.446495</td>\n",
       "    </tr>\n",
       "    <tr>\n",
       "      <th>9</th>\n",
       "      <td>69.927452</td>\n",
       "      <td>70.246478</td>\n",
       "    </tr>\n",
       "    <tr>\n",
       "      <th>10</th>\n",
       "      <td>75.344482</td>\n",
       "      <td>54.382862</td>\n",
       "    </tr>\n",
       "    <tr>\n",
       "      <th>11</th>\n",
       "      <td>64.240345</td>\n",
       "      <td>84.510128</td>\n",
       "    </tr>\n",
       "    <tr>\n",
       "      <th>12</th>\n",
       "      <td>78.452228</td>\n",
       "      <td>62.220342</td>\n",
       "    </tr>\n",
       "    <tr>\n",
       "      <th>13</th>\n",
       "      <td>79.963764</td>\n",
       "      <td>80.227720</td>\n",
       "    </tr>\n",
       "    <tr>\n",
       "      <th>14</th>\n",
       "      <td>63.612039</td>\n",
       "      <td>72.856880</td>\n",
       "    </tr>\n",
       "    <tr>\n",
       "      <th>15</th>\n",
       "      <td>80.951179</td>\n",
       "      <td>22.695090</td>\n",
       "    </tr>\n",
       "    <tr>\n",
       "      <th>16</th>\n",
       "      <td>54.736768</td>\n",
       "      <td>57.032725</td>\n",
       "    </tr>\n",
       "    <tr>\n",
       "      <th>17</th>\n",
       "      <td>58.533775</td>\n",
       "      <td>76.975175</td>\n",
       "    </tr>\n",
       "    <tr>\n",
       "      <th>18</th>\n",
       "      <td>64.426586</td>\n",
       "      <td>84.496975</td>\n",
       "    </tr>\n",
       "    <tr>\n",
       "      <th>19</th>\n",
       "      <td>54.398761</td>\n",
       "      <td>71.925364</td>\n",
       "    </tr>\n",
       "    <tr>\n",
       "      <th>20</th>\n",
       "      <td>85.477691</td>\n",
       "      <td>72.751653</td>\n",
       "    </tr>\n",
       "    <tr>\n",
       "      <th>21</th>\n",
       "      <td>81.446599</td>\n",
       "      <td>86.123247</td>\n",
       "    </tr>\n",
       "    <tr>\n",
       "      <th>22</th>\n",
       "      <td>48.823878</td>\n",
       "      <td>92.759871</td>\n",
       "    </tr>\n",
       "    <tr>\n",
       "      <th>23</th>\n",
       "      <td>38.336641</td>\n",
       "      <td>27.547600</td>\n",
       "    </tr>\n",
       "    <tr>\n",
       "      <th>24</th>\n",
       "      <td>69.052708</td>\n",
       "      <td>96.838706</td>\n",
       "    </tr>\n",
       "    <tr>\n",
       "      <th>25</th>\n",
       "      <td>42.193404</td>\n",
       "      <td>86.281088</td>\n",
       "    </tr>\n",
       "    <tr>\n",
       "      <th>26</th>\n",
       "      <td>56.764514</td>\n",
       "      <td>79.486624</td>\n",
       "    </tr>\n",
       "    <tr>\n",
       "      <th>27</th>\n",
       "      <td>60.270782</td>\n",
       "      <td>77.722545</td>\n",
       "    </tr>\n",
       "    <tr>\n",
       "      <th>28</th>\n",
       "      <td>68.085508</td>\n",
       "      <td>72.056898</td>\n",
       "    </tr>\n",
       "    <tr>\n",
       "      <th>29</th>\n",
       "      <td>82.494657</td>\n",
       "      <td>39.063042</td>\n",
       "    </tr>\n",
       "    <tr>\n",
       "      <th>...</th>\n",
       "      <td>...</td>\n",
       "      <td>...</td>\n",
       "    </tr>\n",
       "    <tr>\n",
       "      <th>170</th>\n",
       "      <td>74.442236</td>\n",
       "      <td>40.702467</td>\n",
       "    </tr>\n",
       "    <tr>\n",
       "      <th>171</th>\n",
       "      <td>57.155437</td>\n",
       "      <td>84.470668</td>\n",
       "    </tr>\n",
       "    <tr>\n",
       "      <th>172</th>\n",
       "      <td>66.820281</td>\n",
       "      <td>64.672905</td>\n",
       "    </tr>\n",
       "    <tr>\n",
       "      <th>173</th>\n",
       "      <td>59.787090</td>\n",
       "      <td>66.167643</td>\n",
       "    </tr>\n",
       "    <tr>\n",
       "      <th>174</th>\n",
       "      <td>66.739424</td>\n",
       "      <td>54.461782</td>\n",
       "    </tr>\n",
       "    <tr>\n",
       "      <th>175</th>\n",
       "      <td>99.596102</td>\n",
       "      <td>39.089348</td>\n",
       "    </tr>\n",
       "    <tr>\n",
       "      <th>176</th>\n",
       "      <td>86.505535</td>\n",
       "      <td>83.683839</td>\n",
       "    </tr>\n",
       "    <tr>\n",
       "      <th>177</th>\n",
       "      <td>45.995271</td>\n",
       "      <td>66.901859</td>\n",
       "    </tr>\n",
       "    <tr>\n",
       "      <th>178</th>\n",
       "      <td>57.566575</td>\n",
       "      <td>88.562656</td>\n",
       "    </tr>\n",
       "    <tr>\n",
       "      <th>179</th>\n",
       "      <td>54.160491</td>\n",
       "      <td>71.125381</td>\n",
       "    </tr>\n",
       "    <tr>\n",
       "      <th>180</th>\n",
       "      <td>70.597073</td>\n",
       "      <td>87.920514</td>\n",
       "    </tr>\n",
       "    <tr>\n",
       "      <th>181</th>\n",
       "      <td>79.286414</td>\n",
       "      <td>87.841593</td>\n",
       "    </tr>\n",
       "    <tr>\n",
       "      <th>182</th>\n",
       "      <td>85.775717</td>\n",
       "      <td>75.296289</td>\n",
       "    </tr>\n",
       "    <tr>\n",
       "      <th>183</th>\n",
       "      <td>87.432307</td>\n",
       "      <td>71.164841</td>\n",
       "    </tr>\n",
       "    <tr>\n",
       "      <th>184</th>\n",
       "      <td>79.419740</td>\n",
       "      <td>94.491371</td>\n",
       "    </tr>\n",
       "    <tr>\n",
       "      <th>185</th>\n",
       "      <td>57.009624</td>\n",
       "      <td>79.414584</td>\n",
       "    </tr>\n",
       "    <tr>\n",
       "      <th>186</th>\n",
       "      <td>74.255995</td>\n",
       "      <td>58.862570</td>\n",
       "    </tr>\n",
       "    <tr>\n",
       "      <th>187</th>\n",
       "      <td>81.506930</td>\n",
       "      <td>67.086006</td>\n",
       "    </tr>\n",
       "    <tr>\n",
       "      <th>188</th>\n",
       "      <td>65.792437</td>\n",
       "      <td>67.964910</td>\n",
       "    </tr>\n",
       "    <tr>\n",
       "      <th>189</th>\n",
       "      <td>75.283839</td>\n",
       "      <td>45.142716</td>\n",
       "    </tr>\n",
       "    <tr>\n",
       "      <th>190</th>\n",
       "      <td>64.014874</td>\n",
       "      <td>64.646598</td>\n",
       "    </tr>\n",
       "    <tr>\n",
       "      <th>191</th>\n",
       "      <td>50.932034</td>\n",
       "      <td>72.922647</td>\n",
       "    </tr>\n",
       "    <tr>\n",
       "      <th>192</th>\n",
       "      <td>52.761938</td>\n",
       "      <td>58.553770</td>\n",
       "    </tr>\n",
       "    <tr>\n",
       "      <th>193</th>\n",
       "      <td>90.475409</td>\n",
       "      <td>71.177994</td>\n",
       "    </tr>\n",
       "    <tr>\n",
       "      <th>194</th>\n",
       "      <td>91.687720</td>\n",
       "      <td>71.859597</td>\n",
       "    </tr>\n",
       "    <tr>\n",
       "      <th>195</th>\n",
       "      <td>87.963843</td>\n",
       "      <td>67.951756</td>\n",
       "    </tr>\n",
       "    <tr>\n",
       "      <th>196</th>\n",
       "      <td>95.360016</td>\n",
       "      <td>75.269982</td>\n",
       "    </tr>\n",
       "    <tr>\n",
       "      <th>197</th>\n",
       "      <td>39.937008</td>\n",
       "      <td>66.207103</td>\n",
       "    </tr>\n",
       "    <tr>\n",
       "      <th>198</th>\n",
       "      <td>73.063898</td>\n",
       "      <td>76.804181</td>\n",
       "    </tr>\n",
       "    <tr>\n",
       "      <th>199</th>\n",
       "      <td>54.777197</td>\n",
       "      <td>96.904473</td>\n",
       "    </tr>\n",
       "  </tbody>\n",
       "</table>\n",
       "<p>200 rows × 2 columns</p>\n",
       "</div>"
      ],
      "text/plain": [
       "     With test preparation course,gender,result  \\\n",
       "0                                     90.535165   \n",
       "1                                     90.249626   \n",
       "2                                     69.822955   \n",
       "3                                     82.454228   \n",
       "4                                     54.345845   \n",
       "5                                     53.934708   \n",
       "6                                     40.964277   \n",
       "7                                     48.792064   \n",
       "8                                     55.982668   \n",
       "9                                     69.927452   \n",
       "10                                    75.344482   \n",
       "11                                    64.240345   \n",
       "12                                    78.452228   \n",
       "13                                    79.963764   \n",
       "14                                    63.612039   \n",
       "15                                    80.951179   \n",
       "16                                    54.736768   \n",
       "17                                    58.533775   \n",
       "18                                    64.426586   \n",
       "19                                    54.398761   \n",
       "20                                    85.477691   \n",
       "21                                    81.446599   \n",
       "22                                    48.823878   \n",
       "23                                    38.336641   \n",
       "24                                    69.052708   \n",
       "25                                    42.193404   \n",
       "26                                    56.764514   \n",
       "27                                    60.270782   \n",
       "28                                    68.085508   \n",
       "29                                    82.494657   \n",
       "..                                          ...   \n",
       "170                                   74.442236   \n",
       "171                                   57.155437   \n",
       "172                                   66.820281   \n",
       "173                                   59.787090   \n",
       "174                                   66.739424   \n",
       "175                                   99.596102   \n",
       "176                                   86.505535   \n",
       "177                                   45.995271   \n",
       "178                                   57.566575   \n",
       "179                                   54.160491   \n",
       "180                                   70.597073   \n",
       "181                                   79.286414   \n",
       "182                                   85.775717   \n",
       "183                                   87.432307   \n",
       "184                                   79.419740   \n",
       "185                                   57.009624   \n",
       "186                                   74.255995   \n",
       "187                                   81.506930   \n",
       "188                                   65.792437   \n",
       "189                                   75.283839   \n",
       "190                                   64.014874   \n",
       "191                                   50.932034   \n",
       "192                                   52.761938   \n",
       "193                                   90.475409   \n",
       "194                                   91.687720   \n",
       "195                                   87.963843   \n",
       "196                                   95.360016   \n",
       "197                                   39.937008   \n",
       "198                                   73.063898   \n",
       "199                                   54.777197   \n",
       "\n",
       "     Without test preparation course,gender,result  \n",
       "0                                        33.934310  \n",
       "1                                        68.843813  \n",
       "2                                        54.488089  \n",
       "3                                        74.522613  \n",
       "4                                        66.338637  \n",
       "5                                        72.856880  \n",
       "6                                        73.472716  \n",
       "7                                        53.648646  \n",
       "8                                        69.446495  \n",
       "9                                        70.246478  \n",
       "10                                       54.382862  \n",
       "11                                       84.510128  \n",
       "12                                       62.220342  \n",
       "13                                       80.227720  \n",
       "14                                       72.856880  \n",
       "15                                       22.695090  \n",
       "16                                       57.032725  \n",
       "17                                       76.975175  \n",
       "18                                       84.496975  \n",
       "19                                       71.925364  \n",
       "20                                       72.751653  \n",
       "21                                       86.123247  \n",
       "22                                       92.759871  \n",
       "23                                       27.547600  \n",
       "24                                       96.838706  \n",
       "25                                       86.281088  \n",
       "26                                       79.486624  \n",
       "27                                       77.722545  \n",
       "28                                       72.056898  \n",
       "29                                       39.063042  \n",
       "..                                             ...  \n",
       "170                                      40.702467  \n",
       "171                                      84.470668  \n",
       "172                                      64.672905  \n",
       "173                                      66.167643  \n",
       "174                                      54.461782  \n",
       "175                                      39.089348  \n",
       "176                                      83.683839  \n",
       "177                                      66.901859  \n",
       "178                                      88.562656  \n",
       "179                                      71.125381  \n",
       "180                                      87.920514  \n",
       "181                                      87.841593  \n",
       "182                                      75.296289  \n",
       "183                                      71.164841  \n",
       "184                                      94.491371  \n",
       "185                                      79.414584  \n",
       "186                                      58.862570  \n",
       "187                                      67.086006  \n",
       "188                                      67.964910  \n",
       "189                                      45.142716  \n",
       "190                                      64.646598  \n",
       "191                                      72.922647  \n",
       "192                                      58.553770  \n",
       "193                                      71.177994  \n",
       "194                                      71.859597  \n",
       "195                                      67.951756  \n",
       "196                                      75.269982  \n",
       "197                                      66.207103  \n",
       "198                                      76.804181  \n",
       "199                                      96.904473  \n",
       "\n",
       "[200 rows x 2 columns]"
      ]
     },
     "execution_count": 66,
     "metadata": {},
     "output_type": "execute_result"
    }
   ],
   "source": [
    "compare_predictions = pd.DataFrame({'With test preparation course,gender,result':writing_prediction,'Without test preparation course,gender,result':prediction1})\n",
    "compare_predictions"
   ]
  },
  {
   "cell_type": "code",
   "execution_count": 67,
   "metadata": {},
   "outputs": [
    {
     "data": {
      "text/plain": [
       "Text(0, 0.5, 'Predictions')"
      ]
     },
     "execution_count": 67,
     "metadata": {},
     "output_type": "execute_result"
    },
    {
     "data": {
      "image/png": "[encoded data removed]",
      "text/plain": [
       "<Figure size 432x288 with 1 Axes>"
      ]
     },
     "metadata": {
      "needs_background": "light"
     },
     "output_type": "display_data"
    },
    {
     "data": {
      "image/png": "[encoded data removed]",
      "text/plain": [
       "<Figure size 432x288 with 1 Axes>"
      ]
     },
     "metadata": {
      "needs_background": "light"
     },
     "output_type": "display_data"
    }
   ],
   "source": [
    "N = 200\n",
    "plt.figure(1)\n",
    "colors = np.random.rand(N)\n",
    "plt.scatter(y_test, writing_prediction, c=colors)\n",
    "plt.xlabel(\"True Values\")\n",
    "plt.ylabel(\"Predictions\")\n",
    "plt.title(\"With test preparation\")\n",
    "plt.figure(2)\n",
    "colors = np.random.rand(N)\n",
    "plt.scatter(y1_test, prediction1,c=colors)\n",
    "plt.title(\"Without test preparation\")\n",
    "plt.xlabel(\"True Values\")\n",
    "plt.ylabel(\"Predictions\")"
   ]
  },
  {
   "cell_type": "markdown",
   "metadata": {},
   "source": [
    "# Using Decision Tree"
   ]
  },
  {
   "cell_type": "code",
   "execution_count": 68,
   "metadata": {},
   "outputs": [],
   "source": [
    "from sklearn.tree import DecisionTreeClassifier\n",
    "from sklearn import metrics"
   ]
  },
  {
   "cell_type": "code",
   "execution_count": 69,
   "metadata": {},
   "outputs": [],
   "source": [
    "# training value\n",
    "X = df[['test_preparation_course_map','gender_map','reading score','math score','grades_map','Result_map']]\n",
    "# target values \n",
    "y = df['writing score']"
   ]
  },
  {
   "cell_type": "code",
   "execution_count": 70,
   "metadata": {},
   "outputs": [],
   "source": [
    "# Split dataset into training set and test set\n",
    "X_train, X_test, y_train, y_test = train_test_split(X, y, test_size=0.3, random_state=1)"
   ]
  },
  {
   "cell_type": "code",
   "execution_count": 71,
   "metadata": {},
   "outputs": [],
   "source": [
    "# Create Decision Tree classifer object\n",
    "clf = DecisionTreeClassifier()\n",
    "\n",
    "# Train Decision Tree Classifer\n",
    "clf = clf.fit(X_train,y_train)\n",
    "\n",
    "#Predict the response for test dataset\n",
    "y_pred = clf.predict(X_test)"
   ]
  },
  {
   "cell_type": "code",
   "execution_count": 72,
   "metadata": {},
   "outputs": [
    {
     "name": "stdout",
     "output_type": "stream",
     "text": [
      "Accuracy: 0.08\n"
     ]
    }
   ],
   "source": [
    "# Model Accuracy, how often is the classifier correct?\n",
    "print(\"Accuracy:\",metrics.accuracy_score(y_test, y_pred))"
   ]
  },
  {
   "cell_type": "markdown",
   "metadata": {},
   "source": [
    "# KNN"
   ]
  },
  {
   "cell_type": "code",
   "execution_count": 73,
   "metadata": {},
   "outputs": [],
   "source": [
    "# Training data\n",
    "x3 = df[['math score','reading score','writing score']]\n",
    "# target values \n",
    "y3 = df['math score']\n",
    "\n",
    "X_train3, X_test3, y_train3, y_test3 = train_test_split(x3, y3, test_size=0.20, random_state=40)"
   ]
  },
  {
   "cell_type": "code",
   "execution_count": 74,
   "metadata": {},
   "outputs": [
    {
     "data": {
      "text/plain": [
       "KNeighborsClassifier(algorithm='auto', leaf_size=30, metric='minkowski',\n",
       "           metric_params=None, n_jobs=None, n_neighbors=3, p=2,\n",
       "           weights='uniform')"
      ]
     },
     "execution_count": 74,
     "metadata": {},
     "output_type": "execute_result"
    }
   ],
   "source": [
    "from sklearn.neighbors import KNeighborsClassifier\n",
    "neigh = KNeighborsClassifier(n_neighbors=3)\n",
    "neigh.fit(X_train3, y_train3) "
   ]
  },
  {
   "cell_type": "code",
   "execution_count": 75,
   "metadata": {},
   "outputs": [
    {
     "data": {
      "text/plain": [
       "0.22"
      ]
     },
     "execution_count": 75,
     "metadata": {},
     "output_type": "execute_result"
    }
   ],
   "source": [
    "neigh.score(X_test3,y_test3)"
   ]
  },
  {
   "cell_type": "code",
   "execution_count": 76,
   "metadata": {},
   "outputs": [
    {
     "data": {
      "text/plain": [
       "array([ 57,  61,  92,  69,  49,  58,  55,  59,  54,  59,  44,  79,  88,\n",
       "        77,  67,  66,  74,  46,  69,  52,  79,  75,  70,  84,  69,  32,\n",
       "        66,  88,  82,  62,  60,  79,  32,  78,  58,  74,  53,  69,  48,\n",
       "        57,  39,  61,  42,  54,  64,  65,  61,  40,  55,  50,  76,  92,\n",
       "        72,  51,  57,  58,  81,  33,  63,  46,  83,  60,  82,  91,  79,\n",
       "        68,  58,  78,  69,  53,  94,  70,  70,  59,  84,  58,  69,  78,\n",
       "        91,  67,  50,  42,  73,  89,  62,  77,  50,  82,  88,  46,  41,\n",
       "        67,  53,  63,  48,  69,  58, 100,  62,  82,  85,  94,  63,  74,\n",
       "        53,  72,  78,  52,  58,  65,  70,  44,  49,  62,  77,  63,  78,\n",
       "        74,  67,  40,  61,  59,  71,  67,  52,  69,  58,  83,  44,  68,\n",
       "        87,  77,  52,  58,  88,  59,  59,  49,  51,  79,  63,  32,  82,\n",
       "        78,  63,  71,  55,  77,  70,  72,  88,  58,  65,  67,  55,  88,\n",
       "        97,  67,  81,  53,  89,  59,  74,  69,  26,  68,  84,  58,  67,\n",
       "        65,  55,  80,  61,  67,  62,  52,  71,  62,  46,  84,  93,  82,\n",
       "        69,  29,  67,  58,  77,  65,  29,  44,  65,  85,  67,  84,  70,\n",
       "        64,  69,  71,  56,  46])"
      ]
     },
     "execution_count": 76,
     "metadata": {},
     "output_type": "execute_result"
    }
   ],
   "source": [
    "predict = neigh.predict(X_test3)\n",
    "predict\n"
   ]
  },
  {
   "cell_type": "code",
   "execution_count": 77,
   "metadata": {},
   "outputs": [
    {
     "data": {
      "text/plain": [
       "0.22"
      ]
     },
     "execution_count": 77,
     "metadata": {},
     "output_type": "execute_result"
    }
   ],
   "source": [
    "from sklearn.metrics import accuracy_score\n",
    "accuracy = accuracy_score(y_test3, predict)\n",
    "accuracy"
   ]
  },
  {
   "cell_type": "code",
   "execution_count": null,
   "metadata": {},
   "outputs": [],
   "source": []
  }
 ],
 "metadata": {
  "kernelspec": {
   "display_name": "Python 3",
   "language": "python",
   "name": "python3"
  },
  "language_info": {
   "codemirror_mode": {
    "name": "ipython",
    "version": 3
   },
   "file_extension": ".py",
   "mimetype": "text/x-python",
   "name": "python",
   "nbconvert_exporter": "python",
   "pygments_lexer": "ipython3",
   "version": "3.6.7"
  }
 },
 "nbformat": 4,
 "nbformat_minor": 2
}
